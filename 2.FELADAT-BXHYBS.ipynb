{
    "metadata": {
        "kernelspec": {
            "name": "SQL",
            "display_name": "SQL",
            "language": "sql"
        },
        "language_info": {
            "name": "sql",
            "version": ""
        }
    },
    "nbformat_minor": 2,
    "nbformat": 4,
    "cells": [
        {
            "cell_type": "markdown",
            "source": [
                "**ADATBÁZIS 2. HÁZI FELADAT - ADATMASZKOLÁS**\n",
                "\n",
                "**NÉMETH ANDRÁS FÜLÖP - BXHYBS**\n",
                "\n",
                "**A feladathoz én az ügyfél táblát választottam, mivel tartalmazza azon alapadattípusokat, amikkel megoldható a feladat.**"
            ],
            "metadata": {
                "azdata_cell_guid": "feb79f85-ceae-4e16-86b2-b2abb9d395e8"
            },
            "attachments": {}
        },
        {
            "cell_type": "code",
            "source": [
                "CREATE TABLE FELADAT\r\n",
                "(LOGIN INT IDENTITY PRIMARY KEY NOT NULL,\r\n",
                "EMAIL NVARCHAR(255)\tMASKED WITH (FUNCTION='email()') NOT NULL,\r\n",
                "NEV NVARCHAR(255) MASKED WITH (FUNCTION='partial(1, \"XXXX\", 1)') NOT NULL,\r\n",
                "SZULEV INT MASKED WITH (FUNCTION='random(1950, 2005)') NULL,\r\n",
                "NEM NVARCHAR(1) NULL,\r\n",
                "CIM NVARCHAR(255) MASKED WITH (FUNCTION='default()') NULL\r\n",
                ")\r\n",
                "\r\n",
                "INSERT INTO FELADAT([LOGIN], EMAIL, NEV, SZULEV, NEM, CIM)\r\n",
                "SELECT * FROM Ugyfel\r\n",
                "\r\n",
                "--SELECT * FROM FELADAT\r\n",
                "\r\n",
                "CREATE USER MaskUser WITHOUT LOGIN;\r\n",
                "GRANT SELECT ON FELADAT TO MaskUser\r\n",
                "\r\n",
                "--GRANT UNMASK TO MaskUser\r\n",
                "--REVOKE UNMASK FROM MaskUser\r\n",
                "\r\n",
                "EXECUTE AS USER= 'MaskUser';\r\n",
                "SELECT * FROM FELADAT\r\n",
                "REVERT\r\n",
                ""
            ],
            "metadata": {
                "azdata_cell_guid": "2f5a460d-1119-475a-8f5b-6a43013fd869",
                "language": "sql"
            },
            "outputs": [
                {
                    "output_type": "error",
                    "ename": "",
                    "evalue": "Msg 262, Level 14, State 1, Line 1\r\nCREATE TABLE permission denied in database 'webshop'.",
                    "traceback": []
                },
                {
                    "output_type": "display_data",
                    "data": {
                        "text/html": "Total execution time: 00:00:00.011"
                    },
                    "metadata": {}
                }
            ],
            "execution_count": 2
        }
    ]
}