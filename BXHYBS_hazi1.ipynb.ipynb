{
    "metadata": {
        "kernelspec": {
            "name": "SQL",
            "display_name": "SQL",
            "language": "sql"
        },
        "language_info": {
            "name": "sql",
            "version": ""
        }
    },
    "nbformat_minor": 2,
    "nbformat": 4,
    "cells": [
        {
            "cell_type": "markdown",
            "source": [
                "NÉMETH ANDRÁS - BXHYBS -1. HÁZI FELADAT\n",
                "\n",
                "**ADATPROFILOZÁS - WEBSHOP ADATBÁZIS**\n",
                "\n",
                "_A feladathoz én a webshop adatbázisból az ügyfél táblát választottam a házi feladatomhoz._\n",
                "\n",
                "_A táblában szereplő tulajdonságok a következők:_\n",
                "\n",
                "> > > > > > > _\\- LOGIN(string típusú) az adott ügyfél felhasználónevét tartalmazza_\n",
                "> > > > > > > \n",
                "> > > > > > > _\\- EMAIL(string típusú) az adott ügyfél email címét tartalmazza_\n",
                "> > > > > > > \n",
                "> > > > > > > _\\-NEV(string típusú) az adott ügyfél nevét tartalmazza_\n",
                "> > > > > > > \n",
                "> > > > > > > _\\-SZULEV(szám típusú) az adott ügyfél születési évét tartalmazza_\n",
                "> > > > > > > \n",
                "> > > > > > > _\\-NEM(string típusú) az adott ügyfél nemének kezdőbetűjét tartalmazza_\n",
                "> > > > > > > \n",
                "> > > > > > > _\\-CIM(string típusú) az adott ügyfél címét tartalmazza_"
            ],
            "metadata": {
                "azdata_cell_guid": "1fc26417-27f0-4c6f-9ff9-a3d8c78e1e7e"
            },
            "attachments": {}
        },
        {
            "cell_type": "code",
            "source": [
                "--NULL ÉRTÉKEK ELLENŐRZÉSE AZ OSZLOPOKBAN\r\n",
                "\r\n",
                "SELECT\r\n",
                "    SUM(CASE WHEN LOGIN IS NULL THEN 1 ELSE 0 END) AS \"NULL_LOGIN\",\r\n",
                "    SUM(CASE WHEN EMAIL IS NULL THEN 1 ELSE 0 END) AS \"NULL_EMAIL\",\r\n",
                "    SUM(CASE WHEN NEV IS NULL THEN 1 ELSE 0 END) AS \"NULL_NEV\",\r\n",
                "    SUM(CASE WHEN SZULEV IS NULL THEN 1 ELSE 0 END) AS \"SZULEV_NULL\",\r\n",
                "    SUM(CASE WHEN NEM IS NULL THEN 1 ELSE 0 END) AS \"NEM_NULL\",\r\n",
                "    SUM(CASE WHEN CIM IS NULL THEN 1 ELSE 0 END) AS \"CIM_NULL\"\r\n",
                "FROM UGYFEL\r\n",
                ""
            ],
            "metadata": {
                "azdata_cell_guid": "2b5f2f24-a87f-4ecc-868d-21eb439bb213",
                "language": "sql"
            },
            "outputs": [
                {
                    "output_type": "display_data",
                    "data": {
                        "text/html": "(1 row affected)"
                    },
                    "metadata": {}
                },
                {
                    "output_type": "display_data",
                    "data": {
                        "text/html": "Total execution time: 00:00:00.058"
                    },
                    "metadata": {}
                },
                {
                    "output_type": "execute_result",
                    "metadata": {},
                    "execution_count": 1,
                    "data": {
                        "application/vnd.dataresource+json": {
                            "schema": {
                                "fields": [
                                    {
                                        "name": "NULL_LOGIN"
                                    },
                                    {
                                        "name": "NULL_EMAIL"
                                    },
                                    {
                                        "name": "NULL_NEV"
                                    },
                                    {
                                        "name": "SZULEV_NULL"
                                    },
                                    {
                                        "name": "NEM_NULL"
                                    },
                                    {
                                        "name": "CIM_NULL"
                                    }
                                ]
                            },
                            "data": [
                                {
                                    "NULL_LOGIN": "0",
                                    "NULL_EMAIL": "0",
                                    "NULL_NEV": "0",
                                    "SZULEV_NULL": "0",
                                    "NEM_NULL": "0",
                                    "CIM_NULL": "0"
                                }
                            ]
                        },
                        "text/html": [
                            "<table>",
                            "<tr><th>NULL_LOGIN</th><th>NULL_EMAIL</th><th>NULL_NEV</th><th>SZULEV_NULL</th><th>NEM_NULL</th><th>CIM_NULL</th></tr>",
                            "<tr><td>0</td><td>0</td><td>0</td><td>0</td><td>0</td><td>0</td></tr>",
                            "</table>"
                        ]
                    }
                }
            ],
            "execution_count": 1
        },
        {
            "cell_type": "code",
            "source": [
                "--EGYEDI ÉRTÉKEK VIZSGÁLATA AZ OSZLOPOKBAN\r\n",
                "\r\n",
                "SELECT\r\n",
                "    COUNT(DISTINCT LOGIN) AS \"UNIQUE_LOGIN\",\r\n",
                "    COUNT(DISTINCT EMAIL) AS \"UNIQUE_EMAIL\",\r\n",
                "    COUNT(DISTINCT NEV) AS \"UNIQUE_NEV\",\r\n",
                "    COUNT(DISTINCT SZULEV) AS \"UNIQUE_SZULEV\",\r\n",
                "    COUNT(DISTINCT NEM) AS \"UNIQUE_NEM\",\r\n",
                "    COUNT(DISTINCT CIM) AS \"UNIQUE_CIM\"\r\n",
                "FROM UGYFEL"
            ],
            "metadata": {
                "azdata_cell_guid": "5a7fb5c9-e49f-497a-9f32-091d0ef1fe9e",
                "language": "sql",
                "tags": []
            },
            "outputs": [
                {
                    "output_type": "display_data",
                    "data": {
                        "text/html": "(1 row affected)"
                    },
                    "metadata": {}
                },
                {
                    "output_type": "display_data",
                    "data": {
                        "text/html": "Total execution time: 00:00:00.029"
                    },
                    "metadata": {}
                },
                {
                    "output_type": "execute_result",
                    "metadata": {},
                    "execution_count": 3,
                    "data": {
                        "application/vnd.dataresource+json": {
                            "schema": {
                                "fields": [
                                    {
                                        "name": "UNIQUE_LOGIN"
                                    },
                                    {
                                        "name": "UNIQUE_EMAIL"
                                    },
                                    {
                                        "name": "UNIQUE_NEV"
                                    },
                                    {
                                        "name": "UNIQUE_SZULEV"
                                    },
                                    {
                                        "name": "UNIQUE_NEM"
                                    },
                                    {
                                        "name": "UNIQUE_CIM"
                                    }
                                ]
                            },
                            "data": [
                                {
                                    "UNIQUE_LOGIN": "200",
                                    "UNIQUE_EMAIL": "200",
                                    "UNIQUE_NEV": "200",
                                    "UNIQUE_SZULEV": "33",
                                    "UNIQUE_NEM": "2",
                                    "UNIQUE_CIM": "198"
                                }
                            ]
                        },
                        "text/html": [
                            "<table>",
                            "<tr><th>UNIQUE_LOGIN</th><th>UNIQUE_EMAIL</th><th>UNIQUE_NEV</th><th>UNIQUE_SZULEV</th><th>UNIQUE_NEM</th><th>UNIQUE_CIM</th></tr>",
                            "<tr><td>200</td><td>200</td><td>200</td><td>33</td><td>2</td><td>198</td></tr>",
                            "</table>"
                        ]
                    }
                }
            ],
            "execution_count": 3
        },
        {
            "cell_type": "code",
            "source": [
                "--SZULEV KÜLÖNBÖZŐ MATEMATIKAI TULAJDONSÁGAI\r\n",
                "\r\n",
                "SELECT \r\n",
                "    MIN(SZULEV) AS \"MIN_SZULEV\",\r\n",
                "    MAX(SZULEV) AS \"MAX_SZULEV\",\r\n",
                "    AVG(SZULEV) AS \"ÁTLAG_SZULEV\",\r\n",
                "    STDEV(SZULEV) AS \"SZÓRÁS_SZULEV\", \r\n",
                "    VAR(SZULEV) AS \"VARIANCIA_SZULEV\"\r\n",
                "FROM UGYFEL\r\n",
                ""
            ],
            "metadata": {
                "azdata_cell_guid": "c2a02db9-aa11-40be-a7bb-e0493ae9c54a",
                "language": "sql"
            },
            "outputs": [
                {
                    "output_type": "display_data",
                    "data": {
                        "text/html": "(1 row affected)"
                    },
                    "metadata": {}
                },
                {
                    "output_type": "display_data",
                    "data": {
                        "text/html": "Total execution time: 00:00:00.031"
                    },
                    "metadata": {}
                },
                {
                    "output_type": "execute_result",
                    "metadata": {},
                    "execution_count": 4,
                    "data": {
                        "application/vnd.dataresource+json": {
                            "schema": {
                                "fields": [
                                    {
                                        "name": "MIN_SZULEV"
                                    },
                                    {
                                        "name": "MAX_SZULEV"
                                    },
                                    {
                                        "name": "ÁTLAG_SZULEV"
                                    },
                                    {
                                        "name": "SZÓRÁS_SZULEV"
                                    },
                                    {
                                        "name": "VARIANCIA_SZULEV"
                                    }
                                ]
                            },
                            "data": [
                                {
                                    "MIN_SZULEV": "1967",
                                    "MAX_SZULEV": "2000",
                                    "ÁTLAG_SZULEV": "1982",
                                    "SZÓRÁS_SZULEV": "9,309549589955424",
                                    "VARIANCIA_SZULEV": "86,6677135678392"
                                }
                            ]
                        },
                        "text/html": [
                            "<table>",
                            "<tr><th>MIN_SZULEV</th><th>MAX_SZULEV</th><th>ÁTLAG_SZULEV</th><th>SZÓRÁS_SZULEV</th><th>VARIANCIA_SZULEV</th></tr>",
                            "<tr><td>1967</td><td>2000</td><td>1982</td><td>9,309549589955424</td><td>86,6677135678392</td></tr>",
                            "</table>"
                        ]
                    }
                }
            ],
            "execution_count": 4
        },
        {
            "cell_type": "code",
            "source": [
                "--A NEM TULAJDONSÁG CSOPORTOSTVA\r\n",
                "\r\n",
                "SELECT NEM, COUNT(*) AS \"DARABSZÁM\"\r\n",
                "FROM UGYFEL\r\n",
                "GROUP BY NEM"
            ],
            "metadata": {
                "azdata_cell_guid": "e5a2de40-d5ed-41fb-8226-d2bf667c58b4",
                "language": "sql"
            },
            "outputs": [
                {
                    "output_type": "display_data",
                    "data": {
                        "text/html": "(2 rows affected)"
                    },
                    "metadata": {}
                },
                {
                    "output_type": "display_data",
                    "data": {
                        "text/html": "Total execution time: 00:00:00.029"
                    },
                    "metadata": {}
                },
                {
                    "output_type": "execute_result",
                    "metadata": {},
                    "execution_count": 5,
                    "data": {
                        "application/vnd.dataresource+json": {
                            "schema": {
                                "fields": [
                                    {
                                        "name": "NEM"
                                    },
                                    {
                                        "name": "DARABSZÁM"
                                    }
                                ]
                            },
                            "data": [
                                {
                                    "NEM": "F",
                                    "DARABSZÁM": "119"
                                },
                                {
                                    "NEM": "N",
                                    "DARABSZÁM": "81"
                                }
                            ]
                        },
                        "text/html": [
                            "<table>",
                            "<tr><th>NEM</th><th>DARABSZÁM</th></tr>",
                            "<tr><td>F</td><td>119</td></tr>",
                            "<tr><td>N</td><td>81</td></tr>",
                            "</table>"
                        ]
                    }
                }
            ],
            "execution_count": 5
        },
        {
            "cell_type": "code",
            "source": [
                "--ÁLTALÁNOS INFORMÁCIÓK A TÁBLÁRÓL\r\n",
                "\r\n",
                "SELECT COLUMN_NAME, DATA_TYPE, CHARACTER_MAXIMUM_LENGTH\r\n",
                "FROM INFORMATION_SCHEMA.COLUMNS\r\n",
                "WHERE TABLE_NAME = 'ugyfel'"
            ],
            "metadata": {
                "azdata_cell_guid": "03cf40f8-7c43-4998-898f-2f45f9504a52",
                "language": "sql"
            },
            "outputs": [
                {
                    "output_type": "display_data",
                    "data": {
                        "text/html": "(6 rows affected)"
                    },
                    "metadata": {}
                },
                {
                    "output_type": "display_data",
                    "data": {
                        "text/html": "Total execution time: 00:00:00.045"
                    },
                    "metadata": {}
                },
                {
                    "output_type": "execute_result",
                    "metadata": {},
                    "execution_count": 6,
                    "data": {
                        "application/vnd.dataresource+json": {
                            "schema": {
                                "fields": [
                                    {
                                        "name": "COLUMN_NAME"
                                    },
                                    {
                                        "name": "DATA_TYPE"
                                    },
                                    {
                                        "name": "CHARACTER_MAXIMUM_LENGTH"
                                    }
                                ]
                            },
                            "data": [
                                {
                                    "COLUMN_NAME": "LOGIN",
                                    "DATA_TYPE": "nvarchar",
                                    "CHARACTER_MAXIMUM_LENGTH": "255"
                                },
                                {
                                    "COLUMN_NAME": "EMAIL",
                                    "DATA_TYPE": "nvarchar",
                                    "CHARACTER_MAXIMUM_LENGTH": "255"
                                },
                                {
                                    "COLUMN_NAME": "NEV",
                                    "DATA_TYPE": "nvarchar",
                                    "CHARACTER_MAXIMUM_LENGTH": "255"
                                },
                                {
                                    "COLUMN_NAME": "SZULEV",
                                    "DATA_TYPE": "int",
                                    "CHARACTER_MAXIMUM_LENGTH": "NULL"
                                },
                                {
                                    "COLUMN_NAME": "NEM",
                                    "DATA_TYPE": "nvarchar",
                                    "CHARACTER_MAXIMUM_LENGTH": "1"
                                },
                                {
                                    "COLUMN_NAME": "CIM",
                                    "DATA_TYPE": "nvarchar",
                                    "CHARACTER_MAXIMUM_LENGTH": "255"
                                }
                            ]
                        },
                        "text/html": [
                            "<table>",
                            "<tr><th>COLUMN_NAME</th><th>DATA_TYPE</th><th>CHARACTER_MAXIMUM_LENGTH</th></tr>",
                            "<tr><td>LOGIN</td><td>nvarchar</td><td>255</td></tr>",
                            "<tr><td>EMAIL</td><td>nvarchar</td><td>255</td></tr>",
                            "<tr><td>NEV</td><td>nvarchar</td><td>255</td></tr>",
                            "<tr><td>SZULEV</td><td>int</td><td>NULL</td></tr>",
                            "<tr><td>NEM</td><td>nvarchar</td><td>1</td></tr>",
                            "<tr><td>CIM</td><td>nvarchar</td><td>255</td></tr>",
                            "</table>"
                        ]
                    }
                }
            ],
            "execution_count": 6
        },
        {
            "cell_type": "code",
            "source": [
                "--ENTITÁSOK SZÁMA\r\n",
                "\r\n",
                "SELECT COUNT(*) AS \"TOTAL\" FROM UGYFEL"
            ],
            "metadata": {
                "azdata_cell_guid": "4745fe9f-8c67-4e2e-8013-b9987c1af5d8",
                "language": "sql"
            },
            "outputs": [
                {
                    "output_type": "display_data",
                    "data": {
                        "text/html": "(1 row affected)"
                    },
                    "metadata": {}
                },
                {
                    "output_type": "display_data",
                    "data": {
                        "text/html": "Total execution time: 00:00:00.018"
                    },
                    "metadata": {}
                },
                {
                    "output_type": "execute_result",
                    "metadata": {},
                    "execution_count": 7,
                    "data": {
                        "application/vnd.dataresource+json": {
                            "schema": {
                                "fields": [
                                    {
                                        "name": "TOTAL"
                                    }
                                ]
                            },
                            "data": [
                                {
                                    "TOTAL": "200"
                                }
                            ]
                        },
                        "text/html": [
                            "<table>",
                            "<tr><th>TOTAL</th></tr>",
                            "<tr><td>200</td></tr>",
                            "</table>"
                        ]
                    }
                }
            ],
            "execution_count": 7
        },
        {
            "cell_type": "code",
            "source": [
                "--CÍMEK MAXIMUM, MINIMUM ÉS ÁTLAGOS HOSSZA\r\n",
                "\r\n",
                "SELECT \r\n",
                "    MIN(LEN(CIM)) AS \"MIN_CIM_HOSSZ\", \r\n",
                "    MAX(LEN(CIM)) AS \"MAX_CIM_HOSSZ\", \r\n",
                "    AVG(LEN(CIM)) AS \"ATLAG_CIM_HOSSZ\" \r\n",
                "FROM UGYFEL"
            ],
            "metadata": {
                "azdata_cell_guid": "6d4a2bd9-e246-4480-addb-d66665ad493b",
                "language": "sql"
            },
            "outputs": [
                {
                    "output_type": "display_data",
                    "data": {
                        "text/html": "(1 row affected)"
                    },
                    "metadata": {}
                },
                {
                    "output_type": "display_data",
                    "data": {
                        "text/html": "Total execution time: 00:00:00.024"
                    },
                    "metadata": {}
                },
                {
                    "output_type": "execute_result",
                    "metadata": {},
                    "execution_count": 8,
                    "data": {
                        "application/vnd.dataresource+json": {
                            "schema": {
                                "fields": [
                                    {
                                        "name": "MIN_CIM_HOSSZ"
                                    },
                                    {
                                        "name": "MAX_CIM_HOSSZ"
                                    },
                                    {
                                        "name": "ATLAG_CIM_HOSSZ"
                                    }
                                ]
                            },
                            "data": [
                                {
                                    "MIN_CIM_HOSSZ": "21",
                                    "MAX_CIM_HOSSZ": "46",
                                    "ATLAG_CIM_HOSSZ": "31"
                                }
                            ]
                        },
                        "text/html": [
                            "<table>",
                            "<tr><th>MIN_CIM_HOSSZ</th><th>MAX_CIM_HOSSZ</th><th>ATLAG_CIM_HOSSZ</th></tr>",
                            "<tr><td>21</td><td>46</td><td>31</td></tr>",
                            "</table>"
                        ]
                    }
                }
            ],
            "execution_count": 8
        },
        {
            "cell_type": "code",
            "source": [
                "--ESETLEGES HIBÁS EMAIL-EK KISZŰRÉSE\r\n",
                "\r\n",
                "SELECT EMAIL \r\n",
                "FROM UGYFEL \r\n",
                "WHERE EMAIL NOT LIKE '%@%';\r\n",
                "\r\n",
                ""
            ],
            "metadata": {
                "azdata_cell_guid": "286141f5-8772-4614-aac3-a25b7a682f8f",
                "language": "sql"
            },
            "outputs": [
                {
                    "output_type": "display_data",
                    "data": {
                        "text/html": "(0 rows affected)"
                    },
                    "metadata": {}
                },
                {
                    "output_type": "display_data",
                    "data": {
                        "text/html": "Total execution time: 00:00:00.017"
                    },
                    "metadata": {}
                },
                {
                    "output_type": "execute_result",
                    "metadata": {},
                    "execution_count": 9,
                    "data": {
                        "application/vnd.dataresource+json": {
                            "schema": {
                                "fields": [
                                    {
                                        "name": "EMAIL"
                                    }
                                ]
                            },
                            "data": []
                        },
                        "text/html": [
                            "<table>",
                            "<tr><th>EMAIL</th></tr>",
                            "</table>"
                        ]
                    }
                }
            ],
            "execution_count": 9
        },
        {
            "cell_type": "code",
            "source": [
                "--KIUGRÓ/HIBÁS SZÜLETÉSI ÉVEK\r\n",
                "\r\n",
                "SELECT SZULEV \r\n",
                "FROM UGYFEL \r\n",
                "WHERE SZULEV < 1900 OR SZULEV > YEAR(GETDATE());"
            ],
            "metadata": {
                "azdata_cell_guid": "3ea56b5d-4447-4aa8-86ef-9366893a7f13",
                "language": "sql"
            },
            "outputs": [
                {
                    "output_type": "display_data",
                    "data": {
                        "text/html": "(0 rows affected)"
                    },
                    "metadata": {}
                },
                {
                    "output_type": "display_data",
                    "data": {
                        "text/html": "Total execution time: 00:00:00.019"
                    },
                    "metadata": {}
                },
                {
                    "output_type": "execute_result",
                    "metadata": {},
                    "execution_count": 10,
                    "data": {
                        "application/vnd.dataresource+json": {
                            "schema": {
                                "fields": [
                                    {
                                        "name": "SZULEV"
                                    }
                                ]
                            },
                            "data": []
                        },
                        "text/html": [
                            "<table>",
                            "<tr><th>SZULEV</th></tr>",
                            "</table>"
                        ]
                    }
                }
            ],
            "execution_count": 10
        },
        {
            "cell_type": "code",
            "source": [
                "SELECT \r\n",
                "    MIN(LEN(LOGIN)) AS \"MIN_LOGIN_LENGTH\", \r\n",
                "    MAX(LEN(LOGIN)) AS \"MAX_LOGIN_LENGTH\", \r\n",
                "    AVG(LEN(LOGIN)) AS \"AVG_LOGIN_LENGTH\", \r\n",
                "    MIN(LEN(EMAIL)) AS \"MIN_EMAIL_LENGTH\", \r\n",
                "    MAX(LEN(EMAIL)) AS \"MAX_EMAIL_LENGTH\", \r\n",
                "    AVG(LEN(EMAIL)) AS \"AVG_EMAIL_LENGTH\", \r\n",
                "    MIN(LEN(NEV)) AS \"MIN_NEV_LENGTH\", \r\n",
                "    MAX(LEN(NEV)) AS \"MAX_NEV_LENGTH\", \r\n",
                "    AVG(LEN(NEV)) AS \"AVG_NEV_LENGTH\" \r\n",
                "FROM UGYFEL;"
            ],
            "metadata": {
                "azdata_cell_guid": "ff1d5066-aab5-47a3-9cac-5561b7ef8a2b",
                "language": "sql"
            },
            "outputs": [
                {
                    "output_type": "display_data",
                    "data": {
                        "text/html": "(1 row affected)"
                    },
                    "metadata": {}
                },
                {
                    "output_type": "display_data",
                    "data": {
                        "text/html": "Total execution time: 00:00:00.020"
                    },
                    "metadata": {}
                },
                {
                    "output_type": "execute_result",
                    "metadata": {},
                    "execution_count": 12,
                    "data": {
                        "application/vnd.dataresource+json": {
                            "schema": {
                                "fields": [
                                    {
                                        "name": "MIN_LOGIN_LENGTH"
                                    },
                                    {
                                        "name": "MAX_LOGIN_LENGTH"
                                    },
                                    {
                                        "name": "AVG_LOGIN_LENGTH"
                                    },
                                    {
                                        "name": "MIN_EMAIL_LENGTH"
                                    },
                                    {
                                        "name": "MAX_EMAIL_LENGTH"
                                    },
                                    {
                                        "name": "AVG_EMAIL_LENGTH"
                                    },
                                    {
                                        "name": "MIN_NEV_LENGTH"
                                    },
                                    {
                                        "name": "MAX_NEV_LENGTH"
                                    },
                                    {
                                        "name": "AVG_NEV_LENGTH"
                                    }
                                ]
                            },
                            "data": [
                                {
                                    "MIN_LOGIN_LENGTH": "3",
                                    "MAX_LOGIN_LENGTH": "11",
                                    "AVG_LOGIN_LENGTH": "6",
                                    "MIN_EMAIL_LENGTH": "13",
                                    "MAX_EMAIL_LENGTH": "27",
                                    "AVG_EMAIL_LENGTH": "18",
                                    "MIN_NEV_LENGTH": "8",
                                    "MAX_NEV_LENGTH": "19",
                                    "AVG_NEV_LENGTH": "12"
                                }
                            ]
                        },
                        "text/html": [
                            "<table>",
                            "<tr><th>MIN_LOGIN_LENGTH</th><th>MAX_LOGIN_LENGTH</th><th>AVG_LOGIN_LENGTH</th><th>MIN_EMAIL_LENGTH</th><th>MAX_EMAIL_LENGTH</th><th>AVG_EMAIL_LENGTH</th><th>MIN_NEV_LENGTH</th><th>MAX_NEV_LENGTH</th><th>AVG_NEV_LENGTH</th></tr>",
                            "<tr><td>3</td><td>11</td><td>6</td><td>13</td><td>27</td><td>18</td><td>8</td><td>19</td><td>12</td></tr>",
                            "</table>"
                        ]
                    }
                }
            ],
            "execution_count": 12
        },
        {
            "cell_type": "code",
            "source": [
                "--KERESZTNEVEK ELOSZLÁSA\r\n",
                "\r\n",
                "SELECT \r\n",
                "    RIGHT(NEV, CHARINDEX(' ', REVERSE(NEV)) - 1) AS \"KERESZTNÉV\", \r\n",
                "    COUNT(*) AS \"DARABSZÁM\" \r\n",
                "FROM UGYFEL \r\n",
                "GROUP BY RIGHT(NEV, CHARINDEX(' ', REVERSE(NEV)) - 1) \r\n",
                "ORDER BY COUNT(*) DESC \r\n",
                ""
            ],
            "metadata": {
                "azdata_cell_guid": "d971c350-5a58-44cb-b2ae-346e4dfedbf0",
                "language": "sql"
            },
            "outputs": [
                {
                    "output_type": "display_data",
                    "data": {
                        "text/html": "(105 rows affected)"
                    },
                    "metadata": {}
                },
                {
                    "output_type": "display_data",
                    "data": {
                        "text/html": "Total execution time: 00:00:00.032"
                    },
                    "metadata": {}
                },
                {
                    "output_type": "execute_result",
                    "metadata": {
                        "azdata_chartOptions": {
                            "type": "table",
                            "dataDirection": "horizontal",
                            "columnsAsLabels": true,
                            "labelFirstColumn": false,
                            "legendPosition": "top",
                            "dataType": "number",
                            "encoding": "hex",
                            "imageFormat": "jpeg"
                        }
                    },
                    "execution_count": 13,
                    "data": {
                        "application/vnd.dataresource+json": {
                            "schema": {
                                "fields": [
                                    {
                                        "name": "KERESZTNÉV"
                                    },
                                    {
                                        "name": "DARABSZÁM"
                                    }
                                ]
                            },
                            "data": [
                                {
                                    "KERESZTNÉV": "András",
                                    "DARABSZÁM": "7"
                                },
                                {
                                    "KERESZTNÉV": "Péter",
                                    "DARABSZÁM": "6"
                                },
                                {
                                    "KERESZTNÉV": "Andrea",
                                    "DARABSZÁM": "5"
                                },
                                {
                                    "KERESZTNÉV": "Katalin",
                                    "DARABSZÁM": "5"
                                },
                                {
                                    "KERESZTNÉV": "Eszter",
                                    "DARABSZÁM": "4"
                                },
                                {
                                    "KERESZTNÉV": "Krisztina",
                                    "DARABSZÁM": "4"
                                },
                                {
                                    "KERESZTNÉV": "László",
                                    "DARABSZÁM": "4"
                                },
                                {
                                    "KERESZTNÉV": "Attila",
                                    "DARABSZÁM": "4"
                                },
                                {
                                    "KERESZTNÉV": "Bálint",
                                    "DARABSZÁM": "4"
                                },
                                {
                                    "KERESZTNÉV": "Ágnes",
                                    "DARABSZÁM": "4"
                                },
                                {
                                    "KERESZTNÉV": "Norbert",
                                    "DARABSZÁM": "4"
                                },
                                {
                                    "KERESZTNÉV": "Zoltán",
                                    "DARABSZÁM": "4"
                                },
                                {
                                    "KERESZTNÉV": "Róbert",
                                    "DARABSZÁM": "3"
                                },
                                {
                                    "KERESZTNÉV": "Sándor",
                                    "DARABSZÁM": "3"
                                },
                                {
                                    "KERESZTNÉV": "Anikó",
                                    "DARABSZÁM": "3"
                                },
                                {
                                    "KERESZTNÉV": "Balázs",
                                    "DARABSZÁM": "3"
                                },
                                {
                                    "KERESZTNÉV": "Ádám",
                                    "DARABSZÁM": "3"
                                },
                                {
                                    "KERESZTNÉV": "Árpád",
                                    "DARABSZÁM": "3"
                                },
                                {
                                    "KERESZTNÉV": "Bernadett",
                                    "DARABSZÁM": "3"
                                },
                                {
                                    "KERESZTNÉV": "Dániel",
                                    "DARABSZÁM": "3"
                                },
                                {
                                    "KERESZTNÉV": "Dávid",
                                    "DARABSZÁM": "3"
                                },
                                {
                                    "KERESZTNÉV": "Gábor",
                                    "DARABSZÁM": "3"
                                },
                                {
                                    "KERESZTNÉV": "Éva",
                                    "DARABSZÁM": "3"
                                },
                                {
                                    "KERESZTNÉV": "István",
                                    "DARABSZÁM": "3"
                                },
                                {
                                    "KERESZTNÉV": "János",
                                    "DARABSZÁM": "3"
                                },
                                {
                                    "KERESZTNÉV": "József",
                                    "DARABSZÁM": "3"
                                },
                                {
                                    "KERESZTNÉV": "Brigitta",
                                    "DARABSZÁM": "2"
                                },
                                {
                                    "KERESZTNÉV": "Bence",
                                    "DARABSZÁM": "2"
                                },
                                {
                                    "KERESZTNÉV": "Imre",
                                    "DARABSZÁM": "2"
                                },
                                {
                                    "KERESZTNÉV": "Márk",
                                    "DARABSZÁM": "2"
                                },
                                {
                                    "KERESZTNÉV": "Lajos",
                                    "DARABSZÁM": "2"
                                },
                                {
                                    "KERESZTNÉV": "Júlia",
                                    "DARABSZÁM": "2"
                                },
                                {
                                    "KERESZTNÉV": "Miklós",
                                    "DARABSZÁM": "2"
                                },
                                {
                                    "KERESZTNÉV": "Mátyás",
                                    "DARABSZÁM": "2"
                                },
                                {
                                    "KERESZTNÉV": "Krisztián",
                                    "DARABSZÁM": "2"
                                },
                                {
                                    "KERESZTNÉV": "Nikoletta",
                                    "DARABSZÁM": "2"
                                },
                                {
                                    "KERESZTNÉV": "Gabriella",
                                    "DARABSZÁM": "2"
                                },
                                {
                                    "KERESZTNÉV": "Beatrix",
                                    "DARABSZÁM": "2"
                                },
                                {
                                    "KERESZTNÉV": "Anita",
                                    "DARABSZÁM": "2"
                                },
                                {
                                    "KERESZTNÉV": "Annamária",
                                    "DARABSZÁM": "2"
                                },
                                {
                                    "KERESZTNÉV": "Áron",
                                    "DARABSZÁM": "2"
                                },
                                {
                                    "KERESZTNÉV": "Szabolcs",
                                    "DARABSZÁM": "2"
                                },
                                {
                                    "KERESZTNÉV": "Roland",
                                    "DARABSZÁM": "2"
                                },
                                {
                                    "KERESZTNÉV": "Tamás",
                                    "DARABSZÁM": "2"
                                },
                                {
                                    "KERESZTNÉV": "Tibor",
                                    "DARABSZÁM": "2"
                                },
                                {
                                    "KERESZTNÉV": "Tímea",
                                    "DARABSZÁM": "2"
                                },
                                {
                                    "KERESZTNÉV": "Zsolt",
                                    "DARABSZÁM": "2"
                                },
                                {
                                    "KERESZTNÉV": "Zsuzsa",
                                    "DARABSZÁM": "2"
                                },
                                {
                                    "KERESZTNÉV": "Zsuzsanna",
                                    "DARABSZÁM": "2"
                                },
                                {
                                    "KERESZTNÉV": "Renáta",
                                    "DARABSZÁM": "2"
                                },
                                {
                                    "KERESZTNÉV": "Tünde",
                                    "DARABSZÁM": "1"
                                },
                                {
                                    "KERESZTNÉV": "Valentin",
                                    "DARABSZÁM": "1"
                                },
                                {
                                    "KERESZTNÉV": "Veronika",
                                    "DARABSZÁM": "1"
                                },
                                {
                                    "KERESZTNÉV": "Viktor",
                                    "DARABSZÁM": "1"
                                },
                                {
                                    "KERESZTNÉV": "Viktoria",
                                    "DARABSZÁM": "1"
                                },
                                {
                                    "KERESZTNÉV": "Vivien",
                                    "DARABSZÁM": "1"
                                },
                                {
                                    "KERESZTNÉV": "Tihamér",
                                    "DARABSZÁM": "1"
                                },
                                {
                                    "KERESZTNÉV": "Zsófi",
                                    "DARABSZÁM": "1"
                                },
                                {
                                    "KERESZTNÉV": "Róza",
                                    "DARABSZÁM": "1"
                                },
                                {
                                    "KERESZTNÉV": "Ottó",
                                    "DARABSZÁM": "1"
                                },
                                {
                                    "KERESZTNÉV": "Pál",
                                    "DARABSZÁM": "1"
                                },
                                {
                                    "KERESZTNÉV": "Polla",
                                    "DARABSZÁM": "1"
                                },
                                {
                                    "KERESZTNÉV": "Rajmond",
                                    "DARABSZÁM": "1"
                                },
                                {
                                    "KERESZTNÉV": "Réka",
                                    "DARABSZÁM": "1"
                                },
                                {
                                    "KERESZTNÉV": "Szilárd",
                                    "DARABSZÁM": "1"
                                },
                                {
                                    "KERESZTNÉV": "Szilvia",
                                    "DARABSZÁM": "1"
                                },
                                {
                                    "KERESZTNÉV": "Tamara",
                                    "DARABSZÁM": "1"
                                },
                                {
                                    "KERESZTNÉV": "Sára",
                                    "DARABSZÁM": "1"
                                },
                                {
                                    "KERESZTNÉV": "Sebastián",
                                    "DARABSZÁM": "1"
                                },
                                {
                                    "KERESZTNÉV": "Sebestyén",
                                    "DARABSZÁM": "1"
                                },
                                {
                                    "KERESZTNÉV": "Ákos",
                                    "DARABSZÁM": "1"
                                },
                                {
                                    "KERESZTNÉV": "Aladár",
                                    "DARABSZÁM": "1"
                                },
                                {
                                    "KERESZTNÉV": "Alexander",
                                    "DARABSZÁM": "1"
                                },
                                {
                                    "KERESZTNÉV": "Alexandra",
                                    "DARABSZÁM": "1"
                                },
                                {
                                    "KERESZTNÉV": "Anett",
                                    "DARABSZÁM": "1"
                                },
                                {
                                    "KERESZTNÉV": "Beáta",
                                    "DARABSZÁM": "1"
                                },
                                {
                                    "KERESZTNÉV": "Béla",
                                    "DARABSZÁM": "1"
                                },
                                {
                                    "KERESZTNÉV": "Bertalan",
                                    "DARABSZÁM": "1"
                                },
                                {
                                    "KERESZTNÉV": "Debóra",
                                    "DARABSZÁM": "1"
                                },
                                {
                                    "KERESZTNÉV": "Dénes",
                                    "DARABSZÁM": "1"
                                },
                                {
                                    "KERESZTNÉV": "Dóra",
                                    "DARABSZÁM": "1"
                                },
                                {
                                    "KERESZTNÉV": "Edit",
                                    "DARABSZÁM": "1"
                                },
                                {
                                    "KERESZTNÉV": "Emese",
                                    "DARABSZÁM": "1"
                                },
                                {
                                    "KERESZTNÉV": "Georgij",
                                    "DARABSZÁM": "1"
                                },
                                {
                                    "KERESZTNÉV": "Gusztáv",
                                    "DARABSZÁM": "1"
                                },
                                {
                                    "KERESZTNÉV": "Gyöngyi",
                                    "DARABSZÁM": "1"
                                },
                                {
                                    "KERESZTNÉV": "György",
                                    "DARABSZÁM": "1"
                                },
                                {
                                    "KERESZTNÉV": "Henrik",
                                    "DARABSZÁM": "1"
                                },
                                {
                                    "KERESZTNÉV": "Ibolya",
                                    "DARABSZÁM": "1"
                                },
                                {
                                    "KERESZTNÉV": "Ilona",
                                    "DARABSZÁM": "1"
                                },
                                {
                                    "KERESZTNÉV": "Mihály",
                                    "DARABSZÁM": "1"
                                },
                                {
                                    "KERESZTNÉV": "Mónika",
                                    "DARABSZÁM": "1"
                                },
                                {
                                    "KERESZTNÉV": "Nándor",
                                    "DARABSZÁM": "1"
                                },
                                {
                                    "KERESZTNÉV": "Nikolett",
                                    "DARABSZÁM": "1"
                                },
                                {
                                    "KERESZTNÉV": "Julianna",
                                    "DARABSZÁM": "1"
                                },
                                {
                                    "KERESZTNÉV": "Márton",
                                    "DARABSZÁM": "1"
                                },
                                {
                                    "KERESZTNÉV": "Máté",
                                    "DARABSZÁM": "1"
                                },
                                {
                                    "KERESZTNÉV": "Mária",
                                    "DARABSZÁM": "1"
                                },
                                {
                                    "KERESZTNÉV": "Csongor",
                                    "DARABSZÁM": "1"
                                },
                                {
                                    "KERESZTNÉV": "Ferenc",
                                    "DARABSZÁM": "1"
                                },
                                {
                                    "KERESZTNÉV": "Fruzsina",
                                    "DARABSZÁM": "1"
                                },
                                {
                                    "KERESZTNÉV": "Judit",
                                    "DARABSZÁM": "1"
                                },
                                {
                                    "KERESZTNÉV": "Klaudia",
                                    "DARABSZÁM": "1"
                                },
                                {
                                    "KERESZTNÉV": "Kornél",
                                    "DARABSZÁM": "1"
                                },
                                {
                                    "KERESZTNÉV": "Kristóf",
                                    "DARABSZÁM": "1"
                                }
                            ]
                        },
                        "text/html": [
                            "<table>",
                            "<tr><th>KERESZTNÉV</th><th>DARABSZÁM</th></tr>",
                            "<tr><td>András</td><td>7</td></tr>",
                            "<tr><td>Péter</td><td>6</td></tr>",
                            "<tr><td>Andrea</td><td>5</td></tr>",
                            "<tr><td>Katalin</td><td>5</td></tr>",
                            "<tr><td>Eszter</td><td>4</td></tr>",
                            "<tr><td>Krisztina</td><td>4</td></tr>",
                            "<tr><td>László</td><td>4</td></tr>",
                            "<tr><td>Attila</td><td>4</td></tr>",
                            "<tr><td>Bálint</td><td>4</td></tr>",
                            "<tr><td>Ágnes</td><td>4</td></tr>",
                            "<tr><td>Norbert</td><td>4</td></tr>",
                            "<tr><td>Zoltán</td><td>4</td></tr>",
                            "<tr><td>Róbert</td><td>3</td></tr>",
                            "<tr><td>Sándor</td><td>3</td></tr>",
                            "<tr><td>Anikó</td><td>3</td></tr>",
                            "<tr><td>Balázs</td><td>3</td></tr>",
                            "<tr><td>Ádám</td><td>3</td></tr>",
                            "<tr><td>Árpád</td><td>3</td></tr>",
                            "<tr><td>Bernadett</td><td>3</td></tr>",
                            "<tr><td>Dániel</td><td>3</td></tr>",
                            "<tr><td>Dávid</td><td>3</td></tr>",
                            "<tr><td>Gábor</td><td>3</td></tr>",
                            "<tr><td>Éva</td><td>3</td></tr>",
                            "<tr><td>István</td><td>3</td></tr>",
                            "<tr><td>János</td><td>3</td></tr>",
                            "<tr><td>József</td><td>3</td></tr>",
                            "<tr><td>Brigitta</td><td>2</td></tr>",
                            "<tr><td>Bence</td><td>2</td></tr>",
                            "<tr><td>Imre</td><td>2</td></tr>",
                            "<tr><td>Márk</td><td>2</td></tr>",
                            "<tr><td>Lajos</td><td>2</td></tr>",
                            "<tr><td>Júlia</td><td>2</td></tr>",
                            "<tr><td>Miklós</td><td>2</td></tr>",
                            "<tr><td>Mátyás</td><td>2</td></tr>",
                            "<tr><td>Krisztián</td><td>2</td></tr>",
                            "<tr><td>Nikoletta</td><td>2</td></tr>",
                            "<tr><td>Gabriella</td><td>2</td></tr>",
                            "<tr><td>Beatrix</td><td>2</td></tr>",
                            "<tr><td>Anita</td><td>2</td></tr>",
                            "<tr><td>Annamária</td><td>2</td></tr>",
                            "<tr><td>Áron</td><td>2</td></tr>",
                            "<tr><td>Szabolcs</td><td>2</td></tr>",
                            "<tr><td>Roland</td><td>2</td></tr>",
                            "<tr><td>Tamás</td><td>2</td></tr>",
                            "<tr><td>Tibor</td><td>2</td></tr>",
                            "<tr><td>Tímea</td><td>2</td></tr>",
                            "<tr><td>Zsolt</td><td>2</td></tr>",
                            "<tr><td>Zsuzsa</td><td>2</td></tr>",
                            "<tr><td>Zsuzsanna</td><td>2</td></tr>",
                            "<tr><td>Renáta</td><td>2</td></tr>",
                            "<tr><td>Tünde</td><td>1</td></tr>",
                            "<tr><td>Valentin</td><td>1</td></tr>",
                            "<tr><td>Veronika</td><td>1</td></tr>",
                            "<tr><td>Viktor</td><td>1</td></tr>",
                            "<tr><td>Viktoria</td><td>1</td></tr>",
                            "<tr><td>Vivien</td><td>1</td></tr>",
                            "<tr><td>Tihamér</td><td>1</td></tr>",
                            "<tr><td>Zsófi</td><td>1</td></tr>",
                            "<tr><td>Róza</td><td>1</td></tr>",
                            "<tr><td>Ottó</td><td>1</td></tr>",
                            "<tr><td>Pál</td><td>1</td></tr>",
                            "<tr><td>Polla</td><td>1</td></tr>",
                            "<tr><td>Rajmond</td><td>1</td></tr>",
                            "<tr><td>Réka</td><td>1</td></tr>",
                            "<tr><td>Szilárd</td><td>1</td></tr>",
                            "<tr><td>Szilvia</td><td>1</td></tr>",
                            "<tr><td>Tamara</td><td>1</td></tr>",
                            "<tr><td>Sára</td><td>1</td></tr>",
                            "<tr><td>Sebastián</td><td>1</td></tr>",
                            "<tr><td>Sebestyén</td><td>1</td></tr>",
                            "<tr><td>Ákos</td><td>1</td></tr>",
                            "<tr><td>Aladár</td><td>1</td></tr>",
                            "<tr><td>Alexander</td><td>1</td></tr>",
                            "<tr><td>Alexandra</td><td>1</td></tr>",
                            "<tr><td>Anett</td><td>1</td></tr>",
                            "<tr><td>Beáta</td><td>1</td></tr>",
                            "<tr><td>Béla</td><td>1</td></tr>",
                            "<tr><td>Bertalan</td><td>1</td></tr>",
                            "<tr><td>Debóra</td><td>1</td></tr>",
                            "<tr><td>Dénes</td><td>1</td></tr>",
                            "<tr><td>Dóra</td><td>1</td></tr>",
                            "<tr><td>Edit</td><td>1</td></tr>",
                            "<tr><td>Emese</td><td>1</td></tr>",
                            "<tr><td>Georgij</td><td>1</td></tr>",
                            "<tr><td>Gusztáv</td><td>1</td></tr>",
                            "<tr><td>Gyöngyi</td><td>1</td></tr>",
                            "<tr><td>György</td><td>1</td></tr>",
                            "<tr><td>Henrik</td><td>1</td></tr>",
                            "<tr><td>Ibolya</td><td>1</td></tr>",
                            "<tr><td>Ilona</td><td>1</td></tr>",
                            "<tr><td>Mihály</td><td>1</td></tr>",
                            "<tr><td>Mónika</td><td>1</td></tr>",
                            "<tr><td>Nándor</td><td>1</td></tr>",
                            "<tr><td>Nikolett</td><td>1</td></tr>",
                            "<tr><td>Julianna</td><td>1</td></tr>",
                            "<tr><td>Márton</td><td>1</td></tr>",
                            "<tr><td>Máté</td><td>1</td></tr>",
                            "<tr><td>Mária</td><td>1</td></tr>",
                            "<tr><td>Csongor</td><td>1</td></tr>",
                            "<tr><td>Ferenc</td><td>1</td></tr>",
                            "<tr><td>Fruzsina</td><td>1</td></tr>",
                            "<tr><td>Judit</td><td>1</td></tr>",
                            "<tr><td>Klaudia</td><td>1</td></tr>",
                            "<tr><td>Kornél</td><td>1</td></tr>",
                            "<tr><td>Kristóf</td><td>1</td></tr>",
                            "</table>"
                        ]
                    }
                }
            ],
            "execution_count": 13
        }
    ]
}