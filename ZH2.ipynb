{
    "metadata": {
        "kernelspec": {
            "name": "SQL",
            "display_name": "SQL",
            "language": "sql"
        },
        "language_info": {
            "name": "sql",
            "version": ""
        }
    },
    "nbformat_minor": 2,
    "nbformat": 4,
    "cells": [
        {
            "cell_type": "code",
            "source": [
                "--1. FELADAT\r\n",
                "\r\n",
                "SELECT sz.SZOBA_ID AS \"ID\",\r\n",
                "       sz.FEROHELY AS \"FÉRŐHELY\",\r\n",
                "       DENSE_RANK() OVER(ORDER BY COUNT(*) DESC, sz.FEROHELY ASC) AS \"HELYEZÉS\"\r\n",
                "FROM Foglalas f JOIN Szoba sz ON f.SZOBA_FK = sz.SZOBA_ID\r\n",
                "GROUP BY sz.SZOBA_ID, sz.FEROHELY"
            ],
            "metadata": {
                "azdata_cell_guid": "06eb7287-dc4f-4fd7-8f2d-0af33da83e7c",
                "language": "sql"
            },
            "outputs": [
                {
                    "output_type": "display_data",
                    "data": {
                        "text/html": "(197 rows affected)"
                    },
                    "metadata": {}
                },
                {
                    "output_type": "display_data",
                    "data": {
                        "text/html": "Total execution time: 00:00:00.013"
                    },
                    "metadata": {}
                },
                {
                    "output_type": "execute_result",
                    "metadata": {},
                    "execution_count": 4,
                    "data": {
                        "application/vnd.dataresource+json": {
                            "schema": {
                                "fields": [
                                    {
                                        "name": "ID"
                                    },
                                    {
                                        "name": "FÉRŐHELY"
                                    },
                                    {
                                        "name": "HELYEZÉS"
                                    }
                                ]
                            },
                            "data": [
                                {
                                    "ID": "58",
                                    "FÉRŐHELY": "2",
                                    "HELYEZÉS": "1"
                                },
                                {
                                    "ID": "182",
                                    "FÉRŐHELY": "2",
                                    "HELYEZÉS": "2"
                                },
                                {
                                    "ID": "185",
                                    "FÉRŐHELY": "3",
                                    "HELYEZÉS": "3"
                                },
                                {
                                    "ID": "70",
                                    "FÉRŐHELY": "2",
                                    "HELYEZÉS": "4"
                                },
                                {
                                    "ID": "94",
                                    "FÉRŐHELY": "2",
                                    "HELYEZÉS": "5"
                                },
                                {
                                    "ID": "12",
                                    "FÉRŐHELY": "2",
                                    "HELYEZÉS": "6"
                                },
                                {
                                    "ID": "172",
                                    "FÉRŐHELY": "2",
                                    "HELYEZÉS": "6"
                                },
                                {
                                    "ID": "35",
                                    "FÉRŐHELY": "3",
                                    "HELYEZÉS": "7"
                                },
                                {
                                    "ID": "48",
                                    "FÉRŐHELY": "3",
                                    "HELYEZÉS": "7"
                                },
                                {
                                    "ID": "74",
                                    "FÉRŐHELY": "3",
                                    "HELYEZÉS": "7"
                                },
                                {
                                    "ID": "122",
                                    "FÉRŐHELY": "3",
                                    "HELYEZÉS": "7"
                                },
                                {
                                    "ID": "121",
                                    "FÉRŐHELY": "2",
                                    "HELYEZÉS": "8"
                                },
                                {
                                    "ID": "140",
                                    "FÉRŐHELY": "2",
                                    "HELYEZÉS": "8"
                                },
                                {
                                    "ID": "110",
                                    "FÉRŐHELY": "2",
                                    "HELYEZÉS": "8"
                                },
                                {
                                    "ID": "55",
                                    "FÉRŐHELY": "2",
                                    "HELYEZÉS": "8"
                                },
                                {
                                    "ID": "38",
                                    "FÉRŐHELY": "2",
                                    "HELYEZÉS": "8"
                                },
                                {
                                    "ID": "1",
                                    "FÉRŐHELY": "3",
                                    "HELYEZÉS": "9"
                                },
                                {
                                    "ID": "3",
                                    "FÉRŐHELY": "3",
                                    "HELYEZÉS": "9"
                                },
                                {
                                    "ID": "43",
                                    "FÉRŐHELY": "3",
                                    "HELYEZÉS": "9"
                                },
                                {
                                    "ID": "83",
                                    "FÉRŐHELY": "3",
                                    "HELYEZÉS": "9"
                                },
                                {
                                    "ID": "88",
                                    "FÉRŐHELY": "3",
                                    "HELYEZÉS": "9"
                                },
                                {
                                    "ID": "89",
                                    "FÉRŐHELY": "3",
                                    "HELYEZÉS": "9"
                                },
                                {
                                    "ID": "117",
                                    "FÉRŐHELY": "3",
                                    "HELYEZÉS": "9"
                                },
                                {
                                    "ID": "198",
                                    "FÉRŐHELY": "3",
                                    "HELYEZÉS": "9"
                                },
                                {
                                    "ID": "149",
                                    "FÉRŐHELY": "2",
                                    "HELYEZÉS": "10"
                                },
                                {
                                    "ID": "156",
                                    "FÉRŐHELY": "2",
                                    "HELYEZÉS": "10"
                                },
                                {
                                    "ID": "163",
                                    "FÉRŐHELY": "2",
                                    "HELYEZÉS": "10"
                                },
                                {
                                    "ID": "165",
                                    "FÉRŐHELY": "2",
                                    "HELYEZÉS": "10"
                                },
                                {
                                    "ID": "118",
                                    "FÉRŐHELY": "2",
                                    "HELYEZÉS": "10"
                                },
                                {
                                    "ID": "109",
                                    "FÉRŐHELY": "2",
                                    "HELYEZÉS": "10"
                                },
                                {
                                    "ID": "127",
                                    "FÉRŐHELY": "2",
                                    "HELYEZÉS": "10"
                                },
                                {
                                    "ID": "139",
                                    "FÉRŐHELY": "2",
                                    "HELYEZÉS": "10"
                                },
                                {
                                    "ID": "80",
                                    "FÉRŐHELY": "2",
                                    "HELYEZÉS": "10"
                                },
                                {
                                    "ID": "59",
                                    "FÉRŐHELY": "2",
                                    "HELYEZÉS": "10"
                                },
                                {
                                    "ID": "39",
                                    "FÉRŐHELY": "2",
                                    "HELYEZÉS": "10"
                                },
                                {
                                    "ID": "27",
                                    "FÉRŐHELY": "3",
                                    "HELYEZÉS": "11"
                                },
                                {
                                    "ID": "49",
                                    "FÉRŐHELY": "3",
                                    "HELYEZÉS": "11"
                                },
                                {
                                    "ID": "96",
                                    "FÉRŐHELY": "3",
                                    "HELYEZÉS": "11"
                                },
                                {
                                    "ID": "97",
                                    "FÉRŐHELY": "3",
                                    "HELYEZÉS": "11"
                                },
                                {
                                    "ID": "138",
                                    "FÉRŐHELY": "3",
                                    "HELYEZÉS": "11"
                                },
                                {
                                    "ID": "143",
                                    "FÉRŐHELY": "3",
                                    "HELYEZÉS": "11"
                                },
                                {
                                    "ID": "115",
                                    "FÉRŐHELY": "3",
                                    "HELYEZÉS": "11"
                                },
                                {
                                    "ID": "187",
                                    "FÉRŐHELY": "3",
                                    "HELYEZÉS": "11"
                                },
                                {
                                    "ID": "193",
                                    "FÉRŐHELY": "3",
                                    "HELYEZÉS": "11"
                                },
                                {
                                    "ID": "195",
                                    "FÉRŐHELY": "2",
                                    "HELYEZÉS": "12"
                                },
                                {
                                    "ID": "161",
                                    "FÉRŐHELY": "2",
                                    "HELYEZÉS": "12"
                                },
                                {
                                    "ID": "150",
                                    "FÉRŐHELY": "2",
                                    "HELYEZÉS": "12"
                                },
                                {
                                    "ID": "148",
                                    "FÉRŐHELY": "2",
                                    "HELYEZÉS": "12"
                                },
                                {
                                    "ID": "169",
                                    "FÉRŐHELY": "2",
                                    "HELYEZÉS": "12"
                                },
                                {
                                    "ID": "106",
                                    "FÉRŐHELY": "2",
                                    "HELYEZÉS": "12"
                                },
                                {
                                    "ID": "126",
                                    "FÉRŐHELY": "2",
                                    "HELYEZÉS": "12"
                                },
                                {
                                    "ID": "145",
                                    "FÉRŐHELY": "2",
                                    "HELYEZÉS": "12"
                                },
                                {
                                    "ID": "141",
                                    "FÉRŐHELY": "2",
                                    "HELYEZÉS": "12"
                                },
                                {
                                    "ID": "130",
                                    "FÉRŐHELY": "2",
                                    "HELYEZÉS": "12"
                                },
                                {
                                    "ID": "137",
                                    "FÉRŐHELY": "2",
                                    "HELYEZÉS": "12"
                                },
                                {
                                    "ID": "78",
                                    "FÉRŐHELY": "2",
                                    "HELYEZÉS": "12"
                                },
                                {
                                    "ID": "42",
                                    "FÉRŐHELY": "2",
                                    "HELYEZÉS": "12"
                                },
                                {
                                    "ID": "64",
                                    "FÉRŐHELY": "2",
                                    "HELYEZÉS": "12"
                                },
                                {
                                    "ID": "67",
                                    "FÉRŐHELY": "2",
                                    "HELYEZÉS": "12"
                                },
                                {
                                    "ID": "28",
                                    "FÉRŐHELY": "2",
                                    "HELYEZÉS": "12"
                                },
                                {
                                    "ID": "29",
                                    "FÉRŐHELY": "2",
                                    "HELYEZÉS": "12"
                                },
                                {
                                    "ID": "19",
                                    "FÉRŐHELY": "2",
                                    "HELYEZÉS": "12"
                                },
                                {
                                    "ID": "33",
                                    "FÉRŐHELY": "2",
                                    "HELYEZÉS": "12"
                                },
                                {
                                    "ID": "4",
                                    "FÉRŐHELY": "2",
                                    "HELYEZÉS": "12"
                                },
                                {
                                    "ID": "7",
                                    "FÉRŐHELY": "2",
                                    "HELYEZÉS": "12"
                                },
                                {
                                    "ID": "15",
                                    "FÉRŐHELY": "2",
                                    "HELYEZÉS": "12"
                                },
                                {
                                    "ID": "17",
                                    "FÉRŐHELY": "3",
                                    "HELYEZÉS": "13"
                                },
                                {
                                    "ID": "18",
                                    "FÉRŐHELY": "3",
                                    "HELYEZÉS": "13"
                                },
                                {
                                    "ID": "6",
                                    "FÉRŐHELY": "3",
                                    "HELYEZÉS": "13"
                                },
                                {
                                    "ID": "9",
                                    "FÉRŐHELY": "3",
                                    "HELYEZÉS": "13"
                                },
                                {
                                    "ID": "22",
                                    "FÉRŐHELY": "3",
                                    "HELYEZÉS": "13"
                                },
                                {
                                    "ID": "36",
                                    "FÉRŐHELY": "3",
                                    "HELYEZÉS": "13"
                                },
                                {
                                    "ID": "44",
                                    "FÉRŐHELY": "3",
                                    "HELYEZÉS": "13"
                                },
                                {
                                    "ID": "54",
                                    "FÉRŐHELY": "3",
                                    "HELYEZÉS": "13"
                                },
                                {
                                    "ID": "77",
                                    "FÉRŐHELY": "3",
                                    "HELYEZÉS": "13"
                                },
                                {
                                    "ID": "82",
                                    "FÉRŐHELY": "3",
                                    "HELYEZÉS": "13"
                                },
                                {
                                    "ID": "92",
                                    "FÉRŐHELY": "3",
                                    "HELYEZÉS": "13"
                                },
                                {
                                    "ID": "132",
                                    "FÉRŐHELY": "3",
                                    "HELYEZÉS": "13"
                                },
                                {
                                    "ID": "133",
                                    "FÉRŐHELY": "3",
                                    "HELYEZÉS": "13"
                                },
                                {
                                    "ID": "134",
                                    "FÉRŐHELY": "3",
                                    "HELYEZÉS": "13"
                                },
                                {
                                    "ID": "146",
                                    "FÉRŐHELY": "3",
                                    "HELYEZÉS": "13"
                                },
                                {
                                    "ID": "124",
                                    "FÉRŐHELY": "3",
                                    "HELYEZÉS": "13"
                                },
                                {
                                    "ID": "120",
                                    "FÉRŐHELY": "3",
                                    "HELYEZÉS": "13"
                                },
                                {
                                    "ID": "176",
                                    "FÉRŐHELY": "3",
                                    "HELYEZÉS": "13"
                                },
                                {
                                    "ID": "181",
                                    "FÉRŐHELY": "3",
                                    "HELYEZÉS": "13"
                                },
                                {
                                    "ID": "188",
                                    "FÉRŐHELY": "3",
                                    "HELYEZÉS": "13"
                                },
                                {
                                    "ID": "197",
                                    "FÉRŐHELY": "3",
                                    "HELYEZÉS": "13"
                                },
                                {
                                    "ID": "189",
                                    "FÉRŐHELY": "2",
                                    "HELYEZÉS": "14"
                                },
                                {
                                    "ID": "190",
                                    "FÉRŐHELY": "2",
                                    "HELYEZÉS": "14"
                                },
                                {
                                    "ID": "191",
                                    "FÉRŐHELY": "2",
                                    "HELYEZÉS": "14"
                                },
                                {
                                    "ID": "168",
                                    "FÉRŐHELY": "2",
                                    "HELYEZÉS": "14"
                                },
                                {
                                    "ID": "175",
                                    "FÉRŐHELY": "2",
                                    "HELYEZÉS": "14"
                                },
                                {
                                    "ID": "170",
                                    "FÉRŐHELY": "2",
                                    "HELYEZÉS": "14"
                                },
                                {
                                    "ID": "171",
                                    "FÉRŐHELY": "2",
                                    "HELYEZÉS": "14"
                                },
                                {
                                    "ID": "157",
                                    "FÉRŐHELY": "2",
                                    "HELYEZÉS": "14"
                                },
                                {
                                    "ID": "154",
                                    "FÉRŐHELY": "2",
                                    "HELYEZÉS": "14"
                                },
                                {
                                    "ID": "164",
                                    "FÉRŐHELY": "2",
                                    "HELYEZÉS": "14"
                                },
                                {
                                    "ID": "119",
                                    "FÉRŐHELY": "2",
                                    "HELYEZÉS": "14"
                                },
                                {
                                    "ID": "107",
                                    "FÉRŐHELY": "2",
                                    "HELYEZÉS": "14"
                                },
                                {
                                    "ID": "128",
                                    "FÉRŐHELY": "2",
                                    "HELYEZÉS": "14"
                                },
                                {
                                    "ID": "131",
                                    "FÉRŐHELY": "2",
                                    "HELYEZÉS": "14"
                                },
                                {
                                    "ID": "99",
                                    "FÉRŐHELY": "2",
                                    "HELYEZÉS": "14"
                                },
                                {
                                    "ID": "111",
                                    "FÉRŐHELY": "2",
                                    "HELYEZÉS": "14"
                                },
                                {
                                    "ID": "81",
                                    "FÉRŐHELY": "2",
                                    "HELYEZÉS": "14"
                                },
                                {
                                    "ID": "86",
                                    "FÉRŐHELY": "2",
                                    "HELYEZÉS": "14"
                                },
                                {
                                    "ID": "52",
                                    "FÉRŐHELY": "2",
                                    "HELYEZÉS": "14"
                                },
                                {
                                    "ID": "45",
                                    "FÉRŐHELY": "2",
                                    "HELYEZÉS": "14"
                                },
                                {
                                    "ID": "62",
                                    "FÉRŐHELY": "2",
                                    "HELYEZÉS": "14"
                                },
                                {
                                    "ID": "61",
                                    "FÉRŐHELY": "3",
                                    "HELYEZÉS": "15"
                                },
                                {
                                    "ID": "51",
                                    "FÉRŐHELY": "3",
                                    "HELYEZÉS": "15"
                                },
                                {
                                    "ID": "20",
                                    "FÉRŐHELY": "3",
                                    "HELYEZÉS": "15"
                                },
                                {
                                    "ID": "8",
                                    "FÉRŐHELY": "3",
                                    "HELYEZÉS": "15"
                                },
                                {
                                    "ID": "16",
                                    "FÉRŐHELY": "3",
                                    "HELYEZÉS": "15"
                                },
                                {
                                    "ID": "87",
                                    "FÉRŐHELY": "3",
                                    "HELYEZÉS": "15"
                                },
                                {
                                    "ID": "79",
                                    "FÉRŐHELY": "3",
                                    "HELYEZÉS": "15"
                                },
                                {
                                    "ID": "112",
                                    "FÉRŐHELY": "3",
                                    "HELYEZÉS": "15"
                                },
                                {
                                    "ID": "113",
                                    "FÉRŐHELY": "3",
                                    "HELYEZÉS": "15"
                                },
                                {
                                    "ID": "93",
                                    "FÉRŐHELY": "3",
                                    "HELYEZÉS": "15"
                                },
                                {
                                    "ID": "144",
                                    "FÉRŐHELY": "3",
                                    "HELYEZÉS": "15"
                                },
                                {
                                    "ID": "123",
                                    "FÉRŐHELY": "3",
                                    "HELYEZÉS": "15"
                                },
                                {
                                    "ID": "153",
                                    "FÉRŐHELY": "3",
                                    "HELYEZÉS": "15"
                                },
                                {
                                    "ID": "160",
                                    "FÉRŐHELY": "3",
                                    "HELYEZÉS": "15"
                                },
                                {
                                    "ID": "155",
                                    "FÉRŐHELY": "3",
                                    "HELYEZÉS": "15"
                                },
                                {
                                    "ID": "152",
                                    "FÉRŐHELY": "2",
                                    "HELYEZÉS": "16"
                                },
                                {
                                    "ID": "173",
                                    "FÉRŐHELY": "2",
                                    "HELYEZÉS": "16"
                                },
                                {
                                    "ID": "174",
                                    "FÉRŐHELY": "2",
                                    "HELYEZÉS": "16"
                                },
                                {
                                    "ID": "186",
                                    "FÉRŐHELY": "2",
                                    "HELYEZÉS": "16"
                                },
                                {
                                    "ID": "196",
                                    "FÉRŐHELY": "2",
                                    "HELYEZÉS": "16"
                                },
                                {
                                    "ID": "184",
                                    "FÉRŐHELY": "2",
                                    "HELYEZÉS": "16"
                                },
                                {
                                    "ID": "129",
                                    "FÉRŐHELY": "2",
                                    "HELYEZÉS": "16"
                                },
                                {
                                    "ID": "100",
                                    "FÉRŐHELY": "2",
                                    "HELYEZÉS": "16"
                                },
                                {
                                    "ID": "114",
                                    "FÉRŐHELY": "2",
                                    "HELYEZÉS": "16"
                                },
                                {
                                    "ID": "98",
                                    "FÉRŐHELY": "2",
                                    "HELYEZÉS": "16"
                                },
                                {
                                    "ID": "103",
                                    "FÉRŐHELY": "2",
                                    "HELYEZÉS": "16"
                                },
                                {
                                    "ID": "85",
                                    "FÉRŐHELY": "2",
                                    "HELYEZÉS": "16"
                                },
                                {
                                    "ID": "91",
                                    "FÉRŐHELY": "2",
                                    "HELYEZÉS": "16"
                                },
                                {
                                    "ID": "11",
                                    "FÉRŐHELY": "2",
                                    "HELYEZÉS": "16"
                                },
                                {
                                    "ID": "5",
                                    "FÉRŐHELY": "2",
                                    "HELYEZÉS": "16"
                                },
                                {
                                    "ID": "21",
                                    "FÉRŐHELY": "2",
                                    "HELYEZÉS": "16"
                                },
                                {
                                    "ID": "50",
                                    "FÉRŐHELY": "2",
                                    "HELYEZÉS": "16"
                                },
                                {
                                    "ID": "57",
                                    "FÉRŐHELY": "2",
                                    "HELYEZÉS": "16"
                                },
                                {
                                    "ID": "63",
                                    "FÉRŐHELY": "2",
                                    "HELYEZÉS": "16"
                                },
                                {
                                    "ID": "72",
                                    "FÉRŐHELY": "2",
                                    "HELYEZÉS": "16"
                                },
                                {
                                    "ID": "73",
                                    "FÉRŐHELY": "2",
                                    "HELYEZÉS": "16"
                                },
                                {
                                    "ID": "66",
                                    "FÉRŐHELY": "3",
                                    "HELYEZÉS": "17"
                                },
                                {
                                    "ID": "69",
                                    "FÉRŐHELY": "3",
                                    "HELYEZÉS": "17"
                                },
                                {
                                    "ID": "46",
                                    "FÉRŐHELY": "3",
                                    "HELYEZÉS": "17"
                                },
                                {
                                    "ID": "34",
                                    "FÉRŐHELY": "3",
                                    "HELYEZÉS": "17"
                                },
                                {
                                    "ID": "40",
                                    "FÉRŐHELY": "3",
                                    "HELYEZÉS": "17"
                                },
                                {
                                    "ID": "2",
                                    "FÉRŐHELY": "3",
                                    "HELYEZÉS": "17"
                                },
                                {
                                    "ID": "10",
                                    "FÉRŐHELY": "3",
                                    "HELYEZÉS": "17"
                                },
                                {
                                    "ID": "13",
                                    "FÉRŐHELY": "3",
                                    "HELYEZÉS": "17"
                                },
                                {
                                    "ID": "90",
                                    "FÉRŐHELY": "3",
                                    "HELYEZÉS": "17"
                                },
                                {
                                    "ID": "84",
                                    "FÉRŐHELY": "3",
                                    "HELYEZÉS": "17"
                                },
                                {
                                    "ID": "104",
                                    "FÉRŐHELY": "3",
                                    "HELYEZÉS": "17"
                                },
                                {
                                    "ID": "95",
                                    "FÉRŐHELY": "3",
                                    "HELYEZÉS": "17"
                                },
                                {
                                    "ID": "183",
                                    "FÉRŐHELY": "3",
                                    "HELYEZÉS": "17"
                                },
                                {
                                    "ID": "177",
                                    "FÉRŐHELY": "3",
                                    "HELYEZÉS": "17"
                                },
                                {
                                    "ID": "178",
                                    "FÉRŐHELY": "3",
                                    "HELYEZÉS": "17"
                                },
                                {
                                    "ID": "180",
                                    "FÉRŐHELY": "2",
                                    "HELYEZÉS": "18"
                                },
                                {
                                    "ID": "151",
                                    "FÉRŐHELY": "2",
                                    "HELYEZÉS": "18"
                                },
                                {
                                    "ID": "158",
                                    "FÉRŐHELY": "2",
                                    "HELYEZÉS": "18"
                                },
                                {
                                    "ID": "166",
                                    "FÉRŐHELY": "2",
                                    "HELYEZÉS": "18"
                                },
                                {
                                    "ID": "101",
                                    "FÉRŐHELY": "2",
                                    "HELYEZÉS": "18"
                                },
                                {
                                    "ID": "75",
                                    "FÉRŐHELY": "2",
                                    "HELYEZÉS": "18"
                                },
                                {
                                    "ID": "76",
                                    "FÉRŐHELY": "2",
                                    "HELYEZÉS": "18"
                                },
                                {
                                    "ID": "136",
                                    "FÉRŐHELY": "2",
                                    "HELYEZÉS": "18"
                                },
                                {
                                    "ID": "23",
                                    "FÉRŐHELY": "2",
                                    "HELYEZÉS": "18"
                                },
                                {
                                    "ID": "37",
                                    "FÉRŐHELY": "2",
                                    "HELYEZÉS": "18"
                                },
                                {
                                    "ID": "68",
                                    "FÉRŐHELY": "2",
                                    "HELYEZÉS": "18"
                                },
                                {
                                    "ID": "71",
                                    "FÉRŐHELY": "3",
                                    "HELYEZÉS": "19"
                                },
                                {
                                    "ID": "30",
                                    "FÉRŐHELY": "3",
                                    "HELYEZÉS": "19"
                                },
                                {
                                    "ID": "31",
                                    "FÉRŐHELY": "3",
                                    "HELYEZÉS": "19"
                                },
                                {
                                    "ID": "14",
                                    "FÉRŐHELY": "3",
                                    "HELYEZÉS": "19"
                                },
                                {
                                    "ID": "135",
                                    "FÉRŐHELY": "3",
                                    "HELYEZÉS": "19"
                                },
                                {
                                    "ID": "162",
                                    "FÉRŐHELY": "3",
                                    "HELYEZÉS": "19"
                                },
                                {
                                    "ID": "179",
                                    "FÉRŐHELY": "3",
                                    "HELYEZÉS": "19"
                                },
                                {
                                    "ID": "24",
                                    "FÉRŐHELY": "4",
                                    "HELYEZÉS": "20"
                                },
                                {
                                    "ID": "26",
                                    "FÉRŐHELY": "2",
                                    "HELYEZÉS": "21"
                                },
                                {
                                    "ID": "47",
                                    "FÉRŐHELY": "2",
                                    "HELYEZÉS": "21"
                                },
                                {
                                    "ID": "53",
                                    "FÉRŐHELY": "2",
                                    "HELYEZÉS": "21"
                                },
                                {
                                    "ID": "56",
                                    "FÉRŐHELY": "2",
                                    "HELYEZÉS": "21"
                                },
                                {
                                    "ID": "108",
                                    "FÉRŐHELY": "2",
                                    "HELYEZÉS": "21"
                                },
                                {
                                    "ID": "102",
                                    "FÉRŐHELY": "2",
                                    "HELYEZÉS": "21"
                                },
                                {
                                    "ID": "105",
                                    "FÉRŐHELY": "2",
                                    "HELYEZÉS": "21"
                                },
                                {
                                    "ID": "192",
                                    "FÉRŐHELY": "2",
                                    "HELYEZÉS": "21"
                                },
                                {
                                    "ID": "167",
                                    "FÉRŐHELY": "3",
                                    "HELYEZÉS": "22"
                                },
                                {
                                    "ID": "116",
                                    "FÉRŐHELY": "3",
                                    "HELYEZÉS": "22"
                                },
                                {
                                    "ID": "142",
                                    "FÉRŐHELY": "3",
                                    "HELYEZÉS": "22"
                                },
                                {
                                    "ID": "25",
                                    "FÉRŐHELY": "3",
                                    "HELYEZÉS": "22"
                                },
                                {
                                    "ID": "41",
                                    "FÉRŐHELY": "3",
                                    "HELYEZÉS": "22"
                                },
                                {
                                    "ID": "32",
                                    "FÉRŐHELY": "2",
                                    "HELYEZÉS": "23"
                                },
                                {
                                    "ID": "65",
                                    "FÉRŐHELY": "2",
                                    "HELYEZÉS": "23"
                                },
                                {
                                    "ID": "147",
                                    "FÉRŐHELY": "2",
                                    "HELYEZÉS": "23"
                                },
                                {
                                    "ID": "125",
                                    "FÉRŐHELY": "2",
                                    "HELYEZÉS": "23"
                                },
                                {
                                    "ID": "194",
                                    "FÉRŐHELY": "2",
                                    "HELYEZÉS": "23"
                                },
                                {
                                    "ID": "60",
                                    "FÉRŐHELY": "3",
                                    "HELYEZÉS": "24"
                                }
                            ]
                        },
                        "text/html": [
                            "<table>",
                            "<tr><th>ID</th><th>FÉRŐHELY</th><th>HELYEZÉS</th></tr>",
                            "<tr><td>58</td><td>2</td><td>1</td></tr>",
                            "<tr><td>182</td><td>2</td><td>2</td></tr>",
                            "<tr><td>185</td><td>3</td><td>3</td></tr>",
                            "<tr><td>70</td><td>2</td><td>4</td></tr>",
                            "<tr><td>94</td><td>2</td><td>5</td></tr>",
                            "<tr><td>12</td><td>2</td><td>6</td></tr>",
                            "<tr><td>172</td><td>2</td><td>6</td></tr>",
                            "<tr><td>35</td><td>3</td><td>7</td></tr>",
                            "<tr><td>48</td><td>3</td><td>7</td></tr>",
                            "<tr><td>74</td><td>3</td><td>7</td></tr>",
                            "<tr><td>122</td><td>3</td><td>7</td></tr>",
                            "<tr><td>121</td><td>2</td><td>8</td></tr>",
                            "<tr><td>140</td><td>2</td><td>8</td></tr>",
                            "<tr><td>110</td><td>2</td><td>8</td></tr>",
                            "<tr><td>55</td><td>2</td><td>8</td></tr>",
                            "<tr><td>38</td><td>2</td><td>8</td></tr>",
                            "<tr><td>1</td><td>3</td><td>9</td></tr>",
                            "<tr><td>3</td><td>3</td><td>9</td></tr>",
                            "<tr><td>43</td><td>3</td><td>9</td></tr>",
                            "<tr><td>83</td><td>3</td><td>9</td></tr>",
                            "<tr><td>88</td><td>3</td><td>9</td></tr>",
                            "<tr><td>89</td><td>3</td><td>9</td></tr>",
                            "<tr><td>117</td><td>3</td><td>9</td></tr>",
                            "<tr><td>198</td><td>3</td><td>9</td></tr>",
                            "<tr><td>149</td><td>2</td><td>10</td></tr>",
                            "<tr><td>156</td><td>2</td><td>10</td></tr>",
                            "<tr><td>163</td><td>2</td><td>10</td></tr>",
                            "<tr><td>165</td><td>2</td><td>10</td></tr>",
                            "<tr><td>118</td><td>2</td><td>10</td></tr>",
                            "<tr><td>109</td><td>2</td><td>10</td></tr>",
                            "<tr><td>127</td><td>2</td><td>10</td></tr>",
                            "<tr><td>139</td><td>2</td><td>10</td></tr>",
                            "<tr><td>80</td><td>2</td><td>10</td></tr>",
                            "<tr><td>59</td><td>2</td><td>10</td></tr>",
                            "<tr><td>39</td><td>2</td><td>10</td></tr>",
                            "<tr><td>27</td><td>3</td><td>11</td></tr>",
                            "<tr><td>49</td><td>3</td><td>11</td></tr>",
                            "<tr><td>96</td><td>3</td><td>11</td></tr>",
                            "<tr><td>97</td><td>3</td><td>11</td></tr>",
                            "<tr><td>138</td><td>3</td><td>11</td></tr>",
                            "<tr><td>143</td><td>3</td><td>11</td></tr>",
                            "<tr><td>115</td><td>3</td><td>11</td></tr>",
                            "<tr><td>187</td><td>3</td><td>11</td></tr>",
                            "<tr><td>193</td><td>3</td><td>11</td></tr>",
                            "<tr><td>195</td><td>2</td><td>12</td></tr>",
                            "<tr><td>161</td><td>2</td><td>12</td></tr>",
                            "<tr><td>150</td><td>2</td><td>12</td></tr>",
                            "<tr><td>148</td><td>2</td><td>12</td></tr>",
                            "<tr><td>169</td><td>2</td><td>12</td></tr>",
                            "<tr><td>106</td><td>2</td><td>12</td></tr>",
                            "<tr><td>126</td><td>2</td><td>12</td></tr>",
                            "<tr><td>145</td><td>2</td><td>12</td></tr>",
                            "<tr><td>141</td><td>2</td><td>12</td></tr>",
                            "<tr><td>130</td><td>2</td><td>12</td></tr>",
                            "<tr><td>137</td><td>2</td><td>12</td></tr>",
                            "<tr><td>78</td><td>2</td><td>12</td></tr>",
                            "<tr><td>42</td><td>2</td><td>12</td></tr>",
                            "<tr><td>64</td><td>2</td><td>12</td></tr>",
                            "<tr><td>67</td><td>2</td><td>12</td></tr>",
                            "<tr><td>28</td><td>2</td><td>12</td></tr>",
                            "<tr><td>29</td><td>2</td><td>12</td></tr>",
                            "<tr><td>19</td><td>2</td><td>12</td></tr>",
                            "<tr><td>33</td><td>2</td><td>12</td></tr>",
                            "<tr><td>4</td><td>2</td><td>12</td></tr>",
                            "<tr><td>7</td><td>2</td><td>12</td></tr>",
                            "<tr><td>15</td><td>2</td><td>12</td></tr>",
                            "<tr><td>17</td><td>3</td><td>13</td></tr>",
                            "<tr><td>18</td><td>3</td><td>13</td></tr>",
                            "<tr><td>6</td><td>3</td><td>13</td></tr>",
                            "<tr><td>9</td><td>3</td><td>13</td></tr>",
                            "<tr><td>22</td><td>3</td><td>13</td></tr>",
                            "<tr><td>36</td><td>3</td><td>13</td></tr>",
                            "<tr><td>44</td><td>3</td><td>13</td></tr>",
                            "<tr><td>54</td><td>3</td><td>13</td></tr>",
                            "<tr><td>77</td><td>3</td><td>13</td></tr>",
                            "<tr><td>82</td><td>3</td><td>13</td></tr>",
                            "<tr><td>92</td><td>3</td><td>13</td></tr>",
                            "<tr><td>132</td><td>3</td><td>13</td></tr>",
                            "<tr><td>133</td><td>3</td><td>13</td></tr>",
                            "<tr><td>134</td><td>3</td><td>13</td></tr>",
                            "<tr><td>146</td><td>3</td><td>13</td></tr>",
                            "<tr><td>124</td><td>3</td><td>13</td></tr>",
                            "<tr><td>120</td><td>3</td><td>13</td></tr>",
                            "<tr><td>176</td><td>3</td><td>13</td></tr>",
                            "<tr><td>181</td><td>3</td><td>13</td></tr>",
                            "<tr><td>188</td><td>3</td><td>13</td></tr>",
                            "<tr><td>197</td><td>3</td><td>13</td></tr>",
                            "<tr><td>189</td><td>2</td><td>14</td></tr>",
                            "<tr><td>190</td><td>2</td><td>14</td></tr>",
                            "<tr><td>191</td><td>2</td><td>14</td></tr>",
                            "<tr><td>168</td><td>2</td><td>14</td></tr>",
                            "<tr><td>175</td><td>2</td><td>14</td></tr>",
                            "<tr><td>170</td><td>2</td><td>14</td></tr>",
                            "<tr><td>171</td><td>2</td><td>14</td></tr>",
                            "<tr><td>157</td><td>2</td><td>14</td></tr>",
                            "<tr><td>154</td><td>2</td><td>14</td></tr>",
                            "<tr><td>164</td><td>2</td><td>14</td></tr>",
                            "<tr><td>119</td><td>2</td><td>14</td></tr>",
                            "<tr><td>107</td><td>2</td><td>14</td></tr>",
                            "<tr><td>128</td><td>2</td><td>14</td></tr>",
                            "<tr><td>131</td><td>2</td><td>14</td></tr>",
                            "<tr><td>99</td><td>2</td><td>14</td></tr>",
                            "<tr><td>111</td><td>2</td><td>14</td></tr>",
                            "<tr><td>81</td><td>2</td><td>14</td></tr>",
                            "<tr><td>86</td><td>2</td><td>14</td></tr>",
                            "<tr><td>52</td><td>2</td><td>14</td></tr>",
                            "<tr><td>45</td><td>2</td><td>14</td></tr>",
                            "<tr><td>62</td><td>2</td><td>14</td></tr>",
                            "<tr><td>61</td><td>3</td><td>15</td></tr>",
                            "<tr><td>51</td><td>3</td><td>15</td></tr>",
                            "<tr><td>20</td><td>3</td><td>15</td></tr>",
                            "<tr><td>8</td><td>3</td><td>15</td></tr>",
                            "<tr><td>16</td><td>3</td><td>15</td></tr>",
                            "<tr><td>87</td><td>3</td><td>15</td></tr>",
                            "<tr><td>79</td><td>3</td><td>15</td></tr>",
                            "<tr><td>112</td><td>3</td><td>15</td></tr>",
                            "<tr><td>113</td><td>3</td><td>15</td></tr>",
                            "<tr><td>93</td><td>3</td><td>15</td></tr>",
                            "<tr><td>144</td><td>3</td><td>15</td></tr>",
                            "<tr><td>123</td><td>3</td><td>15</td></tr>",
                            "<tr><td>153</td><td>3</td><td>15</td></tr>",
                            "<tr><td>160</td><td>3</td><td>15</td></tr>",
                            "<tr><td>155</td><td>3</td><td>15</td></tr>",
                            "<tr><td>152</td><td>2</td><td>16</td></tr>",
                            "<tr><td>173</td><td>2</td><td>16</td></tr>",
                            "<tr><td>174</td><td>2</td><td>16</td></tr>",
                            "<tr><td>186</td><td>2</td><td>16</td></tr>",
                            "<tr><td>196</td><td>2</td><td>16</td></tr>",
                            "<tr><td>184</td><td>2</td><td>16</td></tr>",
                            "<tr><td>129</td><td>2</td><td>16</td></tr>",
                            "<tr><td>100</td><td>2</td><td>16</td></tr>",
                            "<tr><td>114</td><td>2</td><td>16</td></tr>",
                            "<tr><td>98</td><td>2</td><td>16</td></tr>",
                            "<tr><td>103</td><td>2</td><td>16</td></tr>",
                            "<tr><td>85</td><td>2</td><td>16</td></tr>",
                            "<tr><td>91</td><td>2</td><td>16</td></tr>",
                            "<tr><td>11</td><td>2</td><td>16</td></tr>",
                            "<tr><td>5</td><td>2</td><td>16</td></tr>",
                            "<tr><td>21</td><td>2</td><td>16</td></tr>",
                            "<tr><td>50</td><td>2</td><td>16</td></tr>",
                            "<tr><td>57</td><td>2</td><td>16</td></tr>",
                            "<tr><td>63</td><td>2</td><td>16</td></tr>",
                            "<tr><td>72</td><td>2</td><td>16</td></tr>",
                            "<tr><td>73</td><td>2</td><td>16</td></tr>",
                            "<tr><td>66</td><td>3</td><td>17</td></tr>",
                            "<tr><td>69</td><td>3</td><td>17</td></tr>",
                            "<tr><td>46</td><td>3</td><td>17</td></tr>",
                            "<tr><td>34</td><td>3</td><td>17</td></tr>",
                            "<tr><td>40</td><td>3</td><td>17</td></tr>",
                            "<tr><td>2</td><td>3</td><td>17</td></tr>",
                            "<tr><td>10</td><td>3</td><td>17</td></tr>",
                            "<tr><td>13</td><td>3</td><td>17</td></tr>",
                            "<tr><td>90</td><td>3</td><td>17</td></tr>",
                            "<tr><td>84</td><td>3</td><td>17</td></tr>",
                            "<tr><td>104</td><td>3</td><td>17</td></tr>",
                            "<tr><td>95</td><td>3</td><td>17</td></tr>",
                            "<tr><td>183</td><td>3</td><td>17</td></tr>",
                            "<tr><td>177</td><td>3</td><td>17</td></tr>",
                            "<tr><td>178</td><td>3</td><td>17</td></tr>",
                            "<tr><td>180</td><td>2</td><td>18</td></tr>",
                            "<tr><td>151</td><td>2</td><td>18</td></tr>",
                            "<tr><td>158</td><td>2</td><td>18</td></tr>",
                            "<tr><td>166</td><td>2</td><td>18</td></tr>",
                            "<tr><td>101</td><td>2</td><td>18</td></tr>",
                            "<tr><td>75</td><td>2</td><td>18</td></tr>",
                            "<tr><td>76</td><td>2</td><td>18</td></tr>",
                            "<tr><td>136</td><td>2</td><td>18</td></tr>",
                            "<tr><td>23</td><td>2</td><td>18</td></tr>",
                            "<tr><td>37</td><td>2</td><td>18</td></tr>",
                            "<tr><td>68</td><td>2</td><td>18</td></tr>",
                            "<tr><td>71</td><td>3</td><td>19</td></tr>",
                            "<tr><td>30</td><td>3</td><td>19</td></tr>",
                            "<tr><td>31</td><td>3</td><td>19</td></tr>",
                            "<tr><td>14</td><td>3</td><td>19</td></tr>",
                            "<tr><td>135</td><td>3</td><td>19</td></tr>",
                            "<tr><td>162</td><td>3</td><td>19</td></tr>",
                            "<tr><td>179</td><td>3</td><td>19</td></tr>",
                            "<tr><td>24</td><td>4</td><td>20</td></tr>",
                            "<tr><td>26</td><td>2</td><td>21</td></tr>",
                            "<tr><td>47</td><td>2</td><td>21</td></tr>",
                            "<tr><td>53</td><td>2</td><td>21</td></tr>",
                            "<tr><td>56</td><td>2</td><td>21</td></tr>",
                            "<tr><td>108</td><td>2</td><td>21</td></tr>",
                            "<tr><td>102</td><td>2</td><td>21</td></tr>",
                            "<tr><td>105</td><td>2</td><td>21</td></tr>",
                            "<tr><td>192</td><td>2</td><td>21</td></tr>",
                            "<tr><td>167</td><td>3</td><td>22</td></tr>",
                            "<tr><td>116</td><td>3</td><td>22</td></tr>",
                            "<tr><td>142</td><td>3</td><td>22</td></tr>",
                            "<tr><td>25</td><td>3</td><td>22</td></tr>",
                            "<tr><td>41</td><td>3</td><td>22</td></tr>",
                            "<tr><td>32</td><td>2</td><td>23</td></tr>",
                            "<tr><td>65</td><td>2</td><td>23</td></tr>",
                            "<tr><td>147</td><td>2</td><td>23</td></tr>",
                            "<tr><td>125</td><td>2</td><td>23</td></tr>",
                            "<tr><td>194</td><td>2</td><td>23</td></tr>",
                            "<tr><td>60</td><td>3</td><td>24</td></tr>",
                            "</table>"
                        ]
                    }
                }
            ],
            "execution_count": 4
        },
        {
            "cell_type": "code",
            "source": [
                "--2. FELADAT\r\n",
                "\r\n",
                "SELECT IIF(GROUPING_ID(SZOBA_FK) = 1, 'ÖSSZESEN', CAST(SZOBA_FK AS VARCHAR)) AS \"SZOBASZÁM\",\r\n",
                "       COUNT(*) AS \"ÖSSZESEN\"\r\n",
                "FROM Foglalas\r\n",
                "WHERE FELNOTT_SZAM > GYERMEK_SZAM\r\n",
                "GROUP BY ROLLUP(SZOBA_FK)\r\n",
                ""
            ],
            "metadata": {
                "azdata_cell_guid": "be6d5f3e-87c7-4880-ac6d-e1f922e35932",
                "language": "sql"
            },
            "outputs": [
                {
                    "output_type": "display_data",
                    "data": {
                        "text/html": "(190 rows affected)"
                    },
                    "metadata": {}
                },
                {
                    "output_type": "display_data",
                    "data": {
                        "text/html": "Total execution time: 00:00:00.013"
                    },
                    "metadata": {}
                },
                {
                    "output_type": "execute_result",
                    "metadata": {},
                    "execution_count": 15,
                    "data": {
                        "application/vnd.dataresource+json": {
                            "schema": {
                                "fields": [
                                    {
                                        "name": "SZOBASZÁM"
                                    },
                                    {
                                        "name": "ÖSSZESEN"
                                    }
                                ]
                            },
                            "data": [
                                {
                                    "SZOBASZÁM": "1",
                                    "ÖSSZESEN": "7"
                                },
                                {
                                    "SZOBASZÁM": "2",
                                    "ÖSSZESEN": "2"
                                },
                                {
                                    "SZOBASZÁM": "3",
                                    "ÖSSZESEN": "3"
                                },
                                {
                                    "SZOBASZÁM": "4",
                                    "ÖSSZESEN": "5"
                                },
                                {
                                    "SZOBASZÁM": "5",
                                    "ÖSSZESEN": "2"
                                },
                                {
                                    "SZOBASZÁM": "6",
                                    "ÖSSZESEN": "5"
                                },
                                {
                                    "SZOBASZÁM": "7",
                                    "ÖSSZESEN": "6"
                                },
                                {
                                    "SZOBASZÁM": "8",
                                    "ÖSSZESEN": "5"
                                },
                                {
                                    "SZOBASZÁM": "9",
                                    "ÖSSZESEN": "4"
                                },
                                {
                                    "SZOBASZÁM": "10",
                                    "ÖSSZESEN": "4"
                                },
                                {
                                    "SZOBASZÁM": "11",
                                    "ÖSSZESEN": "4"
                                },
                                {
                                    "SZOBASZÁM": "12",
                                    "ÖSSZESEN": "7"
                                },
                                {
                                    "SZOBASZÁM": "13",
                                    "ÖSSZESEN": "4"
                                },
                                {
                                    "SZOBASZÁM": "14",
                                    "ÖSSZESEN": "3"
                                },
                                {
                                    "SZOBASZÁM": "15",
                                    "ÖSSZESEN": "4"
                                },
                                {
                                    "SZOBASZÁM": "16",
                                    "ÖSSZESEN": "1"
                                },
                                {
                                    "SZOBASZÁM": "17",
                                    "ÖSSZESEN": "2"
                                },
                                {
                                    "SZOBASZÁM": "18",
                                    "ÖSSZESEN": "3"
                                },
                                {
                                    "SZOBASZÁM": "19",
                                    "ÖSSZESEN": "4"
                                },
                                {
                                    "SZOBASZÁM": "20",
                                    "ÖSSZESEN": "5"
                                },
                                {
                                    "SZOBASZÁM": "21",
                                    "ÖSSZESEN": "1"
                                },
                                {
                                    "SZOBASZÁM": "22",
                                    "ÖSSZESEN": "2"
                                },
                                {
                                    "SZOBASZÁM": "23",
                                    "ÖSSZESEN": "3"
                                },
                                {
                                    "SZOBASZÁM": "24",
                                    "ÖSSZESEN": "3"
                                },
                                {
                                    "SZOBASZÁM": "25",
                                    "ÖSSZESEN": "1"
                                },
                                {
                                    "SZOBASZÁM": "27",
                                    "ÖSSZESEN": "5"
                                },
                                {
                                    "SZOBASZÁM": "28",
                                    "ÖSSZESEN": "5"
                                },
                                {
                                    "SZOBASZÁM": "29",
                                    "ÖSSZESEN": "3"
                                },
                                {
                                    "SZOBASZÁM": "30",
                                    "ÖSSZESEN": "2"
                                },
                                {
                                    "SZOBASZÁM": "31",
                                    "ÖSSZESEN": "1"
                                },
                                {
                                    "SZOBASZÁM": "32",
                                    "ÖSSZESEN": "1"
                                },
                                {
                                    "SZOBASZÁM": "33",
                                    "ÖSSZESEN": "3"
                                },
                                {
                                    "SZOBASZÁM": "34",
                                    "ÖSSZESEN": "3"
                                },
                                {
                                    "SZOBASZÁM": "35",
                                    "ÖSSZESEN": "6"
                                },
                                {
                                    "SZOBASZÁM": "36",
                                    "ÖSSZESEN": "4"
                                },
                                {
                                    "SZOBASZÁM": "37",
                                    "ÖSSZESEN": "2"
                                },
                                {
                                    "SZOBASZÁM": "38",
                                    "ÖSSZESEN": "5"
                                },
                                {
                                    "SZOBASZÁM": "39",
                                    "ÖSSZESEN": "4"
                                },
                                {
                                    "SZOBASZÁM": "40",
                                    "ÖSSZESEN": "3"
                                },
                                {
                                    "SZOBASZÁM": "41",
                                    "ÖSSZESEN": "1"
                                },
                                {
                                    "SZOBASZÁM": "42",
                                    "ÖSSZESEN": "5"
                                },
                                {
                                    "SZOBASZÁM": "43",
                                    "ÖSSZESEN": "4"
                                },
                                {
                                    "SZOBASZÁM": "44",
                                    "ÖSSZESEN": "6"
                                },
                                {
                                    "SZOBASZÁM": "45",
                                    "ÖSSZESEN": "4"
                                },
                                {
                                    "SZOBASZÁM": "46",
                                    "ÖSSZESEN": "3"
                                },
                                {
                                    "SZOBASZÁM": "47",
                                    "ÖSSZESEN": "2"
                                },
                                {
                                    "SZOBASZÁM": "48",
                                    "ÖSSZESEN": "6"
                                },
                                {
                                    "SZOBASZÁM": "49",
                                    "ÖSSZESEN": "5"
                                },
                                {
                                    "SZOBASZÁM": "50",
                                    "ÖSSZESEN": "3"
                                },
                                {
                                    "SZOBASZÁM": "51",
                                    "ÖSSZESEN": "3"
                                },
                                {
                                    "SZOBASZÁM": "52",
                                    "ÖSSZESEN": "5"
                                },
                                {
                                    "SZOBASZÁM": "54",
                                    "ÖSSZESEN": "4"
                                },
                                {
                                    "SZOBASZÁM": "55",
                                    "ÖSSZESEN": "3"
                                },
                                {
                                    "SZOBASZÁM": "56",
                                    "ÖSSZESEN": "1"
                                },
                                {
                                    "SZOBASZÁM": "57",
                                    "ÖSSZESEN": "3"
                                },
                                {
                                    "SZOBASZÁM": "58",
                                    "ÖSSZESEN": "8"
                                },
                                {
                                    "SZOBASZÁM": "59",
                                    "ÖSSZESEN": "4"
                                },
                                {
                                    "SZOBASZÁM": "60",
                                    "ÖSSZESEN": "1"
                                },
                                {
                                    "SZOBASZÁM": "61",
                                    "ÖSSZESEN": "4"
                                },
                                {
                                    "SZOBASZÁM": "62",
                                    "ÖSSZESEN": "3"
                                },
                                {
                                    "SZOBASZÁM": "63",
                                    "ÖSSZESEN": "3"
                                },
                                {
                                    "SZOBASZÁM": "64",
                                    "ÖSSZESEN": "5"
                                },
                                {
                                    "SZOBASZÁM": "66",
                                    "ÖSSZESEN": "3"
                                },
                                {
                                    "SZOBASZÁM": "67",
                                    "ÖSSZESEN": "2"
                                },
                                {
                                    "SZOBASZÁM": "69",
                                    "ÖSSZESEN": "2"
                                },
                                {
                                    "SZOBASZÁM": "70",
                                    "ÖSSZESEN": "8"
                                },
                                {
                                    "SZOBASZÁM": "71",
                                    "ÖSSZESEN": "2"
                                },
                                {
                                    "SZOBASZÁM": "72",
                                    "ÖSSZESEN": "2"
                                },
                                {
                                    "SZOBASZÁM": "73",
                                    "ÖSSZESEN": "4"
                                },
                                {
                                    "SZOBASZÁM": "74",
                                    "ÖSSZESEN": "8"
                                },
                                {
                                    "SZOBASZÁM": "75",
                                    "ÖSSZESEN": "2"
                                },
                                {
                                    "SZOBASZÁM": "76",
                                    "ÖSSZESEN": "2"
                                },
                                {
                                    "SZOBASZÁM": "77",
                                    "ÖSSZESEN": "3"
                                },
                                {
                                    "SZOBASZÁM": "78",
                                    "ÖSSZESEN": "3"
                                },
                                {
                                    "SZOBASZÁM": "79",
                                    "ÖSSZESEN": "4"
                                },
                                {
                                    "SZOBASZÁM": "80",
                                    "ÖSSZESEN": "5"
                                },
                                {
                                    "SZOBASZÁM": "81",
                                    "ÖSSZESEN": "3"
                                },
                                {
                                    "SZOBASZÁM": "82",
                                    "ÖSSZESEN": "5"
                                },
                                {
                                    "SZOBASZÁM": "83",
                                    "ÖSSZESEN": "5"
                                },
                                {
                                    "SZOBASZÁM": "84",
                                    "ÖSSZESEN": "3"
                                },
                                {
                                    "SZOBASZÁM": "85",
                                    "ÖSSZESEN": "2"
                                },
                                {
                                    "SZOBASZÁM": "86",
                                    "ÖSSZESEN": "4"
                                },
                                {
                                    "SZOBASZÁM": "87",
                                    "ÖSSZESEN": "5"
                                },
                                {
                                    "SZOBASZÁM": "88",
                                    "ÖSSZESEN": "5"
                                },
                                {
                                    "SZOBASZÁM": "89",
                                    "ÖSSZESEN": "8"
                                },
                                {
                                    "SZOBASZÁM": "90",
                                    "ÖSSZESEN": "3"
                                },
                                {
                                    "SZOBASZÁM": "91",
                                    "ÖSSZESEN": "2"
                                },
                                {
                                    "SZOBASZÁM": "92",
                                    "ÖSSZESEN": "5"
                                },
                                {
                                    "SZOBASZÁM": "93",
                                    "ÖSSZESEN": "3"
                                },
                                {
                                    "SZOBASZÁM": "94",
                                    "ÖSSZESEN": "6"
                                },
                                {
                                    "SZOBASZÁM": "95",
                                    "ÖSSZESEN": "3"
                                },
                                {
                                    "SZOBASZÁM": "96",
                                    "ÖSSZESEN": "6"
                                },
                                {
                                    "SZOBASZÁM": "97",
                                    "ÖSSZESEN": "5"
                                },
                                {
                                    "SZOBASZÁM": "98",
                                    "ÖSSZESEN": "4"
                                },
                                {
                                    "SZOBASZÁM": "99",
                                    "ÖSSZESEN": "4"
                                },
                                {
                                    "SZOBASZÁM": "100",
                                    "ÖSSZESEN": "2"
                                },
                                {
                                    "SZOBASZÁM": "101",
                                    "ÖSSZESEN": "1"
                                },
                                {
                                    "SZOBASZÁM": "102",
                                    "ÖSSZESEN": "1"
                                },
                                {
                                    "SZOBASZÁM": "103",
                                    "ÖSSZESEN": "1"
                                },
                                {
                                    "SZOBASZÁM": "104",
                                    "ÖSSZESEN": "3"
                                },
                                {
                                    "SZOBASZÁM": "106",
                                    "ÖSSZESEN": "4"
                                },
                                {
                                    "SZOBASZÁM": "107",
                                    "ÖSSZESEN": "4"
                                },
                                {
                                    "SZOBASZÁM": "108",
                                    "ÖSSZESEN": "1"
                                },
                                {
                                    "SZOBASZÁM": "109",
                                    "ÖSSZESEN": "2"
                                },
                                {
                                    "SZOBASZÁM": "110",
                                    "ÖSSZESEN": "5"
                                },
                                {
                                    "SZOBASZÁM": "111",
                                    "ÖSSZESEN": "1"
                                },
                                {
                                    "SZOBASZÁM": "112",
                                    "ÖSSZESEN": "4"
                                },
                                {
                                    "SZOBASZÁM": "113",
                                    "ÖSSZESEN": "2"
                                },
                                {
                                    "SZOBASZÁM": "114",
                                    "ÖSSZESEN": "1"
                                },
                                {
                                    "SZOBASZÁM": "115",
                                    "ÖSSZESEN": "5"
                                },
                                {
                                    "SZOBASZÁM": "117",
                                    "ÖSSZESEN": "4"
                                },
                                {
                                    "SZOBASZÁM": "118",
                                    "ÖSSZESEN": "2"
                                },
                                {
                                    "SZOBASZÁM": "119",
                                    "ÖSSZESEN": "4"
                                },
                                {
                                    "SZOBASZÁM": "120",
                                    "ÖSSZESEN": "2"
                                },
                                {
                                    "SZOBASZÁM": "121",
                                    "ÖSSZESEN": "5"
                                },
                                {
                                    "SZOBASZÁM": "122",
                                    "ÖSSZESEN": "3"
                                },
                                {
                                    "SZOBASZÁM": "123",
                                    "ÖSSZESEN": "5"
                                },
                                {
                                    "SZOBASZÁM": "124",
                                    "ÖSSZESEN": "4"
                                },
                                {
                                    "SZOBASZÁM": "126",
                                    "ÖSSZESEN": "4"
                                },
                                {
                                    "SZOBASZÁM": "127",
                                    "ÖSSZESEN": "5"
                                },
                                {
                                    "SZOBASZÁM": "129",
                                    "ÖSSZESEN": "3"
                                },
                                {
                                    "SZOBASZÁM": "130",
                                    "ÖSSZESEN": "5"
                                },
                                {
                                    "SZOBASZÁM": "131",
                                    "ÖSSZESEN": "4"
                                },
                                {
                                    "SZOBASZÁM": "132",
                                    "ÖSSZESEN": "4"
                                },
                                {
                                    "SZOBASZÁM": "133",
                                    "ÖSSZESEN": "4"
                                },
                                {
                                    "SZOBASZÁM": "134",
                                    "ÖSSZESEN": "4"
                                },
                                {
                                    "SZOBASZÁM": "135",
                                    "ÖSSZESEN": "3"
                                },
                                {
                                    "SZOBASZÁM": "136",
                                    "ÖSSZESEN": "2"
                                },
                                {
                                    "SZOBASZÁM": "137",
                                    "ÖSSZESEN": "2"
                                },
                                {
                                    "SZOBASZÁM": "138",
                                    "ÖSSZESEN": "5"
                                },
                                {
                                    "SZOBASZÁM": "139",
                                    "ÖSSZESEN": "6"
                                },
                                {
                                    "SZOBASZÁM": "140",
                                    "ÖSSZESEN": "5"
                                },
                                {
                                    "SZOBASZÁM": "141",
                                    "ÖSSZESEN": "4"
                                },
                                {
                                    "SZOBASZÁM": "142",
                                    "ÖSSZESEN": "1"
                                },
                                {
                                    "SZOBASZÁM": "143",
                                    "ÖSSZESEN": "5"
                                },
                                {
                                    "SZOBASZÁM": "144",
                                    "ÖSSZESEN": "2"
                                },
                                {
                                    "SZOBASZÁM": "145",
                                    "ÖSSZESEN": "2"
                                },
                                {
                                    "SZOBASZÁM": "146",
                                    "ÖSSZESEN": "3"
                                },
                                {
                                    "SZOBASZÁM": "147",
                                    "ÖSSZESEN": "1"
                                },
                                {
                                    "SZOBASZÁM": "148",
                                    "ÖSSZESEN": "5"
                                },
                                {
                                    "SZOBASZÁM": "149",
                                    "ÖSSZESEN": "5"
                                },
                                {
                                    "SZOBASZÁM": "150",
                                    "ÖSSZESEN": "6"
                                },
                                {
                                    "SZOBASZÁM": "151",
                                    "ÖSSZESEN": "2"
                                },
                                {
                                    "SZOBASZÁM": "152",
                                    "ÖSSZESEN": "3"
                                },
                                {
                                    "SZOBASZÁM": "153",
                                    "ÖSSZESEN": "4"
                                },
                                {
                                    "SZOBASZÁM": "154",
                                    "ÖSSZESEN": "3"
                                },
                                {
                                    "SZOBASZÁM": "155",
                                    "ÖSSZESEN": "3"
                                },
                                {
                                    "SZOBASZÁM": "156",
                                    "ÖSSZESEN": "2"
                                },
                                {
                                    "SZOBASZÁM": "157",
                                    "ÖSSZESEN": "2"
                                },
                                {
                                    "SZOBASZÁM": "158",
                                    "ÖSSZESEN": "3"
                                },
                                {
                                    "SZOBASZÁM": "160",
                                    "ÖSSZESEN": "2"
                                },
                                {
                                    "SZOBASZÁM": "161",
                                    "ÖSSZESEN": "3"
                                },
                                {
                                    "SZOBASZÁM": "162",
                                    "ÖSSZESEN": "2"
                                },
                                {
                                    "SZOBASZÁM": "163",
                                    "ÖSSZESEN": "5"
                                },
                                {
                                    "SZOBASZÁM": "164",
                                    "ÖSSZESEN": "4"
                                },
                                {
                                    "SZOBASZÁM": "165",
                                    "ÖSSZESEN": "5"
                                },
                                {
                                    "SZOBASZÁM": "166",
                                    "ÖSSZESEN": "3"
                                },
                                {
                                    "SZOBASZÁM": "167",
                                    "ÖSSZESEN": "2"
                                },
                                {
                                    "SZOBASZÁM": "168",
                                    "ÖSSZESEN": "1"
                                },
                                {
                                    "SZOBASZÁM": "169",
                                    "ÖSSZESEN": "3"
                                },
                                {
                                    "SZOBASZÁM": "170",
                                    "ÖSSZESEN": "3"
                                },
                                {
                                    "SZOBASZÁM": "171",
                                    "ÖSSZESEN": "5"
                                },
                                {
                                    "SZOBASZÁM": "172",
                                    "ÖSSZESEN": "6"
                                },
                                {
                                    "SZOBASZÁM": "173",
                                    "ÖSSZESEN": "3"
                                },
                                {
                                    "SZOBASZÁM": "174",
                                    "ÖSSZESEN": "4"
                                },
                                {
                                    "SZOBASZÁM": "175",
                                    "ÖSSZESEN": "3"
                                },
                                {
                                    "SZOBASZÁM": "176",
                                    "ÖSSZESEN": "2"
                                },
                                {
                                    "SZOBASZÁM": "177",
                                    "ÖSSZESEN": "1"
                                },
                                {
                                    "SZOBASZÁM": "178",
                                    "ÖSSZESEN": "1"
                                },
                                {
                                    "SZOBASZÁM": "179",
                                    "ÖSSZESEN": "2"
                                },
                                {
                                    "SZOBASZÁM": "180",
                                    "ÖSSZESEN": "1"
                                },
                                {
                                    "SZOBASZÁM": "181",
                                    "ÖSSZESEN": "5"
                                },
                                {
                                    "SZOBASZÁM": "182",
                                    "ÖSSZESEN": "11"
                                },
                                {
                                    "SZOBASZÁM": "183",
                                    "ÖSSZESEN": "3"
                                },
                                {
                                    "SZOBASZÁM": "184",
                                    "ÖSSZESEN": "4"
                                },
                                {
                                    "SZOBASZÁM": "185",
                                    "ÖSSZESEN": "10"
                                },
                                {
                                    "SZOBASZÁM": "186",
                                    "ÖSSZESEN": "1"
                                },
                                {
                                    "SZOBASZÁM": "187",
                                    "ÖSSZESEN": "6"
                                },
                                {
                                    "SZOBASZÁM": "188",
                                    "ÖSSZESEN": "2"
                                },
                                {
                                    "SZOBASZÁM": "189",
                                    "ÖSSZESEN": "1"
                                },
                                {
                                    "SZOBASZÁM": "190",
                                    "ÖSSZESEN": "5"
                                },
                                {
                                    "SZOBASZÁM": "191",
                                    "ÖSSZESEN": "3"
                                },
                                {
                                    "SZOBASZÁM": "192",
                                    "ÖSSZESEN": "1"
                                },
                                {
                                    "SZOBASZÁM": "193",
                                    "ÖSSZESEN": "2"
                                },
                                {
                                    "SZOBASZÁM": "194",
                                    "ÖSSZESEN": "1"
                                },
                                {
                                    "SZOBASZÁM": "195",
                                    "ÖSSZESEN": "5"
                                },
                                {
                                    "SZOBASZÁM": "196",
                                    "ÖSSZESEN": "2"
                                },
                                {
                                    "SZOBASZÁM": "197",
                                    "ÖSSZESEN": "6"
                                },
                                {
                                    "SZOBASZÁM": "198",
                                    "ÖSSZESEN": "7"
                                },
                                {
                                    "SZOBASZÁM": "ÖSSZESEN",
                                    "ÖSSZESEN": "668"
                                }
                            ]
                        },
                        "text/html": [
                            "<table>",
                            "<tr><th>SZOBASZÁM</th><th>ÖSSZESEN</th></tr>",
                            "<tr><td>1</td><td>7</td></tr>",
                            "<tr><td>2</td><td>2</td></tr>",
                            "<tr><td>3</td><td>3</td></tr>",
                            "<tr><td>4</td><td>5</td></tr>",
                            "<tr><td>5</td><td>2</td></tr>",
                            "<tr><td>6</td><td>5</td></tr>",
                            "<tr><td>7</td><td>6</td></tr>",
                            "<tr><td>8</td><td>5</td></tr>",
                            "<tr><td>9</td><td>4</td></tr>",
                            "<tr><td>10</td><td>4</td></tr>",
                            "<tr><td>11</td><td>4</td></tr>",
                            "<tr><td>12</td><td>7</td></tr>",
                            "<tr><td>13</td><td>4</td></tr>",
                            "<tr><td>14</td><td>3</td></tr>",
                            "<tr><td>15</td><td>4</td></tr>",
                            "<tr><td>16</td><td>1</td></tr>",
                            "<tr><td>17</td><td>2</td></tr>",
                            "<tr><td>18</td><td>3</td></tr>",
                            "<tr><td>19</td><td>4</td></tr>",
                            "<tr><td>20</td><td>5</td></tr>",
                            "<tr><td>21</td><td>1</td></tr>",
                            "<tr><td>22</td><td>2</td></tr>",
                            "<tr><td>23</td><td>3</td></tr>",
                            "<tr><td>24</td><td>3</td></tr>",
                            "<tr><td>25</td><td>1</td></tr>",
                            "<tr><td>27</td><td>5</td></tr>",
                            "<tr><td>28</td><td>5</td></tr>",
                            "<tr><td>29</td><td>3</td></tr>",
                            "<tr><td>30</td><td>2</td></tr>",
                            "<tr><td>31</td><td>1</td></tr>",
                            "<tr><td>32</td><td>1</td></tr>",
                            "<tr><td>33</td><td>3</td></tr>",
                            "<tr><td>34</td><td>3</td></tr>",
                            "<tr><td>35</td><td>6</td></tr>",
                            "<tr><td>36</td><td>4</td></tr>",
                            "<tr><td>37</td><td>2</td></tr>",
                            "<tr><td>38</td><td>5</td></tr>",
                            "<tr><td>39</td><td>4</td></tr>",
                            "<tr><td>40</td><td>3</td></tr>",
                            "<tr><td>41</td><td>1</td></tr>",
                            "<tr><td>42</td><td>5</td></tr>",
                            "<tr><td>43</td><td>4</td></tr>",
                            "<tr><td>44</td><td>6</td></tr>",
                            "<tr><td>45</td><td>4</td></tr>",
                            "<tr><td>46</td><td>3</td></tr>",
                            "<tr><td>47</td><td>2</td></tr>",
                            "<tr><td>48</td><td>6</td></tr>",
                            "<tr><td>49</td><td>5</td></tr>",
                            "<tr><td>50</td><td>3</td></tr>",
                            "<tr><td>51</td><td>3</td></tr>",
                            "<tr><td>52</td><td>5</td></tr>",
                            "<tr><td>54</td><td>4</td></tr>",
                            "<tr><td>55</td><td>3</td></tr>",
                            "<tr><td>56</td><td>1</td></tr>",
                            "<tr><td>57</td><td>3</td></tr>",
                            "<tr><td>58</td><td>8</td></tr>",
                            "<tr><td>59</td><td>4</td></tr>",
                            "<tr><td>60</td><td>1</td></tr>",
                            "<tr><td>61</td><td>4</td></tr>",
                            "<tr><td>62</td><td>3</td></tr>",
                            "<tr><td>63</td><td>3</td></tr>",
                            "<tr><td>64</td><td>5</td></tr>",
                            "<tr><td>66</td><td>3</td></tr>",
                            "<tr><td>67</td><td>2</td></tr>",
                            "<tr><td>69</td><td>2</td></tr>",
                            "<tr><td>70</td><td>8</td></tr>",
                            "<tr><td>71</td><td>2</td></tr>",
                            "<tr><td>72</td><td>2</td></tr>",
                            "<tr><td>73</td><td>4</td></tr>",
                            "<tr><td>74</td><td>8</td></tr>",
                            "<tr><td>75</td><td>2</td></tr>",
                            "<tr><td>76</td><td>2</td></tr>",
                            "<tr><td>77</td><td>3</td></tr>",
                            "<tr><td>78</td><td>3</td></tr>",
                            "<tr><td>79</td><td>4</td></tr>",
                            "<tr><td>80</td><td>5</td></tr>",
                            "<tr><td>81</td><td>3</td></tr>",
                            "<tr><td>82</td><td>5</td></tr>",
                            "<tr><td>83</td><td>5</td></tr>",
                            "<tr><td>84</td><td>3</td></tr>",
                            "<tr><td>85</td><td>2</td></tr>",
                            "<tr><td>86</td><td>4</td></tr>",
                            "<tr><td>87</td><td>5</td></tr>",
                            "<tr><td>88</td><td>5</td></tr>",
                            "<tr><td>89</td><td>8</td></tr>",
                            "<tr><td>90</td><td>3</td></tr>",
                            "<tr><td>91</td><td>2</td></tr>",
                            "<tr><td>92</td><td>5</td></tr>",
                            "<tr><td>93</td><td>3</td></tr>",
                            "<tr><td>94</td><td>6</td></tr>",
                            "<tr><td>95</td><td>3</td></tr>",
                            "<tr><td>96</td><td>6</td></tr>",
                            "<tr><td>97</td><td>5</td></tr>",
                            "<tr><td>98</td><td>4</td></tr>",
                            "<tr><td>99</td><td>4</td></tr>",
                            "<tr><td>100</td><td>2</td></tr>",
                            "<tr><td>101</td><td>1</td></tr>",
                            "<tr><td>102</td><td>1</td></tr>",
                            "<tr><td>103</td><td>1</td></tr>",
                            "<tr><td>104</td><td>3</td></tr>",
                            "<tr><td>106</td><td>4</td></tr>",
                            "<tr><td>107</td><td>4</td></tr>",
                            "<tr><td>108</td><td>1</td></tr>",
                            "<tr><td>109</td><td>2</td></tr>",
                            "<tr><td>110</td><td>5</td></tr>",
                            "<tr><td>111</td><td>1</td></tr>",
                            "<tr><td>112</td><td>4</td></tr>",
                            "<tr><td>113</td><td>2</td></tr>",
                            "<tr><td>114</td><td>1</td></tr>",
                            "<tr><td>115</td><td>5</td></tr>",
                            "<tr><td>117</td><td>4</td></tr>",
                            "<tr><td>118</td><td>2</td></tr>",
                            "<tr><td>119</td><td>4</td></tr>",
                            "<tr><td>120</td><td>2</td></tr>",
                            "<tr><td>121</td><td>5</td></tr>",
                            "<tr><td>122</td><td>3</td></tr>",
                            "<tr><td>123</td><td>5</td></tr>",
                            "<tr><td>124</td><td>4</td></tr>",
                            "<tr><td>126</td><td>4</td></tr>",
                            "<tr><td>127</td><td>5</td></tr>",
                            "<tr><td>129</td><td>3</td></tr>",
                            "<tr><td>130</td><td>5</td></tr>",
                            "<tr><td>131</td><td>4</td></tr>",
                            "<tr><td>132</td><td>4</td></tr>",
                            "<tr><td>133</td><td>4</td></tr>",
                            "<tr><td>134</td><td>4</td></tr>",
                            "<tr><td>135</td><td>3</td></tr>",
                            "<tr><td>136</td><td>2</td></tr>",
                            "<tr><td>137</td><td>2</td></tr>",
                            "<tr><td>138</td><td>5</td></tr>",
                            "<tr><td>139</td><td>6</td></tr>",
                            "<tr><td>140</td><td>5</td></tr>",
                            "<tr><td>141</td><td>4</td></tr>",
                            "<tr><td>142</td><td>1</td></tr>",
                            "<tr><td>143</td><td>5</td></tr>",
                            "<tr><td>144</td><td>2</td></tr>",
                            "<tr><td>145</td><td>2</td></tr>",
                            "<tr><td>146</td><td>3</td></tr>",
                            "<tr><td>147</td><td>1</td></tr>",
                            "<tr><td>148</td><td>5</td></tr>",
                            "<tr><td>149</td><td>5</td></tr>",
                            "<tr><td>150</td><td>6</td></tr>",
                            "<tr><td>151</td><td>2</td></tr>",
                            "<tr><td>152</td><td>3</td></tr>",
                            "<tr><td>153</td><td>4</td></tr>",
                            "<tr><td>154</td><td>3</td></tr>",
                            "<tr><td>155</td><td>3</td></tr>",
                            "<tr><td>156</td><td>2</td></tr>",
                            "<tr><td>157</td><td>2</td></tr>",
                            "<tr><td>158</td><td>3</td></tr>",
                            "<tr><td>160</td><td>2</td></tr>",
                            "<tr><td>161</td><td>3</td></tr>",
                            "<tr><td>162</td><td>2</td></tr>",
                            "<tr><td>163</td><td>5</td></tr>",
                            "<tr><td>164</td><td>4</td></tr>",
                            "<tr><td>165</td><td>5</td></tr>",
                            "<tr><td>166</td><td>3</td></tr>",
                            "<tr><td>167</td><td>2</td></tr>",
                            "<tr><td>168</td><td>1</td></tr>",
                            "<tr><td>169</td><td>3</td></tr>",
                            "<tr><td>170</td><td>3</td></tr>",
                            "<tr><td>171</td><td>5</td></tr>",
                            "<tr><td>172</td><td>6</td></tr>",
                            "<tr><td>173</td><td>3</td></tr>",
                            "<tr><td>174</td><td>4</td></tr>",
                            "<tr><td>175</td><td>3</td></tr>",
                            "<tr><td>176</td><td>2</td></tr>",
                            "<tr><td>177</td><td>1</td></tr>",
                            "<tr><td>178</td><td>1</td></tr>",
                            "<tr><td>179</td><td>2</td></tr>",
                            "<tr><td>180</td><td>1</td></tr>",
                            "<tr><td>181</td><td>5</td></tr>",
                            "<tr><td>182</td><td>11</td></tr>",
                            "<tr><td>183</td><td>3</td></tr>",
                            "<tr><td>184</td><td>4</td></tr>",
                            "<tr><td>185</td><td>10</td></tr>",
                            "<tr><td>186</td><td>1</td></tr>",
                            "<tr><td>187</td><td>6</td></tr>",
                            "<tr><td>188</td><td>2</td></tr>",
                            "<tr><td>189</td><td>1</td></tr>",
                            "<tr><td>190</td><td>5</td></tr>",
                            "<tr><td>191</td><td>3</td></tr>",
                            "<tr><td>192</td><td>1</td></tr>",
                            "<tr><td>193</td><td>2</td></tr>",
                            "<tr><td>194</td><td>1</td></tr>",
                            "<tr><td>195</td><td>5</td></tr>",
                            "<tr><td>196</td><td>2</td></tr>",
                            "<tr><td>197</td><td>6</td></tr>",
                            "<tr><td>198</td><td>7</td></tr>",
                            "<tr><td>ÖSSZESEN</td><td>668</td></tr>",
                            "</table>"
                        ]
                    }
                }
            ],
            "execution_count": 15
        }
    ]
}